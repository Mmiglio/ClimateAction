{
 "cells": [
  {
   "cell_type": "code",
   "execution_count": 1,
   "metadata": {},
   "outputs": [],
   "source": [
    "# Dependencies\n",
    "import json\n",
    "import warnings\n",
    "import numpy as np\n",
    "import pandas as pd\n",
    "import networkx as nx\n",
    "import matplotlib.pyplot as plt\n",
    "\n",
    "%matplotlib inline\n",
    "\n",
    "# Local dependencies\n",
    "from modules.dataset.tweets import Tweets\n",
    "from modules.dataset.entities import Entities\n",
    "\n",
    "# Constants\n",
    "alpha = 0.85\n",
    "max_iter = 100\n",
    "data_path = \"data/communities/\""
   ]
  },
  {
   "cell_type": "code",
   "execution_count": 2,
   "metadata": {},
   "outputs": [],
   "source": [
    "def get_adjacency_matrix(data):\n",
    "    \"\"\"\n",
    "    Input:\n",
    "        - data: pandas.DataFrame with columns names = ['index_id', 'index_tag']\n",
    "    Output:\n",
    "        - numpy.matrix A - Adjacency matrix\n",
    "    \"\"\"\n",
    "    # Create networkx graph object\n",
    "    graph = nx.from_pandas_edgelist(data, source='index_id', target='index_tag')\n",
    "    # Check if the graph is connected\n",
    "    cc = nx.number_connected_components(graph)\n",
    "    if cc > 1:\n",
    "        print('The bipartite graph is not connected! The GC will be used')\n",
    "        # Extract giant component\n",
    "        giant = max(nx.connected_component_subgraphs(graph), key=len)\n",
    "        # Select the GC\n",
    "        graph = graph.subgraph(giant)\n",
    "    # Extract adjacency matrix\n",
    "    A = nx.to_numpy_matrix(graph)\n",
    "    #print(A.shape)\n",
    "    return A"
   ]
  },
  {
   "cell_type": "code",
   "execution_count": 3,
   "metadata": {},
   "outputs": [],
   "source": [
    "def get_google_matrix(A, e2i, cluster, alpha):\n",
    "    \"\"\"\n",
    "    Input:\n",
    "        - A       : numpy.matrix of dimension [n_nodes, n_nodes]\n",
    "        - e2i     : dictionary that associates each node name to its number in the graph\n",
    "        - cluster : list of strings (node names)\n",
    "        - alpha   : float between 0 and 1 -- Dumping factor (which is 1 - teleport probability)\n",
    "    Output:\n",
    "        - numpy.matrix - Google matrix G = alpha A + (1-alpha) C\n",
    "    \"\"\"\n",
    "    # Normalize A (stochastic on columns)\n",
    "    A /= A.sum(axis=0)\n",
    "    # Mask of indices in the cluster\n",
    "    mask = [ e2i[e] for e in cluster ]\n",
    "    # Compute google matrix\n",
    "    G = alpha*A\n",
    "    G[mask, :] += (1-alpha)/len(cluster)\n",
    "\n",
    "    return G"
   ]
  },
  {
   "cell_type": "code",
   "execution_count": 4,
   "metadata": {},
   "outputs": [],
   "source": [
    "def power_iteration(G, max_iter: int, tolerance=1e-6):\n",
    "    \"\"\"\n",
    "    Input:\n",
    "        - G         : squared numpy.matrix -- Google matrix\n",
    "        - max_iter  : int -- maximum number of iterations\n",
    "        - tolerance : float -- maximum accepted error\n",
    "    Output:\n",
    "        - approximate eigenvector of G (unique if G is a Google matrix)\n",
    "    \"\"\"\n",
    "    # Choose a random vector to decrease the chance that our vector is orthogonal to the eigenvector\n",
    "    b_k = np.random.rand(G.shape[1])\n",
    "\n",
    "    for _ in range(max_iter):\n",
    "        # Calculate the matrix-by-vector product Ab\n",
    "        b_k1 = G @ np.reshape(b_k, (-1,1)) \n",
    "\n",
    "        # Calculate the norm\n",
    "        b_k1_norm = np.linalg.norm(b_k1)\n",
    "\n",
    "        # Re-normalize the vector\n",
    "        b_k = b_k1 / b_k1_norm\n",
    "\n",
    "        # If the precision increment is uniformly lower than the tolerance, break\n",
    "        if np.allclose(b_k, b_k1, atol=tolerance):\n",
    "            #print(b_k1_norm)\n",
    "            break\n",
    "\n",
    "    return b_k"
   ]
  },
  {
   "cell_type": "code",
   "execution_count": 5,
   "metadata": {},
   "outputs": [],
   "source": [
    "# Load communities data\n",
    "communities = pd.read_csv(data_path+\"hashtags_community_selected.csv\", header=0)\n",
    "\n",
    "# Load tweet_id - hashtag map\n",
    "hashtags = Entities()\n",
    "hashtags.from_json(\"data/db/hashtags.json\")\n",
    "hashtags.df = hashtags.df[['tweet_id','entity_text']].rename(columns={'entity_text': 'hashtag'})\n",
    "hashtags.df.hashtag = hashtags.df.hashtag.apply(lambda x: x.lower())\n",
    "# Drop rows with search hashtags\n",
    "seed_list = [\"#climatechange\", \"#climate\", \"#sdgs\", \"#sustainability\", \"#environment\", \"#globalwarming\"]\n",
    "hashtags.df = hashtags.df[~hashtags.df.hashtag.isin(seed_list)]\n",
    "\n",
    "# Load tweet data\n",
    "tweets = Tweets()\n",
    "tweets.from_json(\"data/db/tweets.json\")"
   ]
  },
  {
   "cell_type": "code",
   "execution_count": 6,
   "metadata": {
    "scrolled": false
   },
   "outputs": [
    {
     "name": "stderr",
     "output_type": "stream",
     "text": [
      "/home/laura/anaconda3/lib/python3.7/site-packages/ipykernel_launcher.py:19: SettingWithCopyWarning: \n",
      "A value is trying to be set on a copy of a slice from a DataFrame.\n",
      "Try using .loc[row_indexer,col_indexer] = value instead\n",
      "\n",
      "See the caveats in the documentation: http://pandas.pydata.org/pandas-docs/stable/user_guide/indexing.html#returning-a-view-versus-a-copy\n",
      "/home/laura/anaconda3/lib/python3.7/site-packages/ipykernel_launcher.py:20: SettingWithCopyWarning: \n",
      "A value is trying to be set on a copy of a slice from a DataFrame.\n",
      "Try using .loc[row_indexer,col_indexer] = value instead\n",
      "\n",
      "See the caveats in the documentation: http://pandas.pydata.org/pandas-docs/stable/user_guide/indexing.html#returning-a-view-versus-a-copy\n"
     ]
    },
    {
     "name": "stdout",
     "output_type": "stream",
     "text": [
      "Network 2017\n",
      "\n",
      "The bipartite graph is not connected! The GC will be used\n",
      "det(A):  0.0\n",
      "\n",
      "Network 2018\n",
      "\n",
      "The bipartite graph is not connected! The GC will be used\n",
      "det(A):  0.0\n",
      "\n",
      "Network 2019\n",
      "\n",
      "The bipartite graph is not connected! The GC will be used\n",
      "det(A):  0.0\n",
      "\n"
     ]
    }
   ],
   "source": [
    "years = set(communities.year.values)\n",
    "\n",
    "for year in years:    \n",
    "    # Select ids of the year\n",
    "    curr_ids = list(tweets.df.tweet_id[tweets.df.tweet_date.dt.year == year].values)\n",
    "    # Select communities of the year\n",
    "    curr_communities = communities[communities.year == year]\n",
    "    # Select hashtags of interest\n",
    "    data = hashtags.df[hashtags.df.tweet_id.isin(curr_ids)]\n",
    "    \n",
    "    # Map entities in index\n",
    "    nodes = list(data.hashtag.unique())\n",
    "    nodes.extend(data.tweet_id.unique())\n",
    "    e2i = dict(zip(nodes, range(len(nodes))))\n",
    "    # Map index in entities\n",
    "    i2e = dict(zip(range(len(nodes)), nodes))\n",
    "\n",
    "    # Add indices to data\n",
    "    data['index_id'] = data.tweet_id.apply(lambda x: e2i[x])\n",
    "    data['index_tag'] = data.hashtag.apply(lambda x: e2i[x])\n",
    "    # Keep only indices\n",
    "    data = data[['index_id', 'index_tag']]\n",
    "    \n",
    "    # Init metrics container for year\n",
    "    clusters = curr_communities.community.unique()\n",
    "    community_similarity = pd.DataFrame(columns=clusters, dtype=float)\n",
    "    \n",
    "    print(\"Network {:d}\".format(year), end='\\n\\n')\n",
    "    \n",
    "    # Compute adjacency matrix\n",
    "    A = get_adjacency_matrix(data)    \n",
    "    print(\"det(A): \", np.linalg.det(A))\n",
    "    # Loop through communities\n",
    "    for cluster in clusters:\n",
    "        # Compute Google matrix\n",
    "        G = get_google_matrix(A, e2i, curr_communities.hashtag[curr_communities.community == cluster], alpha)\n",
    "        # Compute eigenvector\n",
    "        v = power_iteration(G, 100)\n",
    "        # Add eigenvector to metrics container\n",
    "        community_similarity[cluster] = np.array(v).squeeze()\n",
    "    print()    \n",
    "    # Remove hashtag from nodes\n",
    "    community_similarity.index = pd.Series(community_similarity.index).apply(lambda x: i2e[x])\n",
    "    mask_tweets = community_similarity.index.isin(curr_ids)\n",
    "    community_similarity = community_similarity.loc[mask_tweets]\n",
    "\n",
    "    # Save results\n",
    "    community_similarity.to_csv(data_path+\"tweet_communities{}.csv\".format(year))"
   ]
  },
  {
   "cell_type": "markdown",
   "metadata": {},
   "source": [
    "## Visualization"
   ]
  },
  {
   "cell_type": "code",
   "execution_count": 7,
   "metadata": {},
   "outputs": [
    {
     "data": {
      "text/html": [
       "<div>\n",
       "<style scoped>\n",
       "    .dataframe tbody tr th:only-of-type {\n",
       "        vertical-align: middle;\n",
       "    }\n",
       "\n",
       "    .dataframe tbody tr th {\n",
       "        vertical-align: top;\n",
       "    }\n",
       "\n",
       "    .dataframe thead th {\n",
       "        text-align: right;\n",
       "    }\n",
       "</style>\n",
       "<table border=\"1\" class=\"dataframe\">\n",
       "  <thead>\n",
       "    <tr style=\"text-align: right;\">\n",
       "      <th></th>\n",
       "      <th>0</th>\n",
       "      <th>1</th>\n",
       "      <th>2</th>\n",
       "      <th>3</th>\n",
       "      <th>9</th>\n",
       "      <th>12</th>\n",
       "      <th>15</th>\n",
       "    </tr>\n",
       "  </thead>\n",
       "  <tbody>\n",
       "    <tr>\n",
       "      <td>1101574442575167489</td>\n",
       "      <td>0.000369</td>\n",
       "      <td>0.002738</td>\n",
       "      <td>0.000617</td>\n",
       "      <td>0.000357</td>\n",
       "      <td>0.002133</td>\n",
       "      <td>0.000373</td>\n",
       "      <td>0.001195</td>\n",
       "    </tr>\n",
       "    <tr>\n",
       "      <td>1101574446341607424</td>\n",
       "      <td>0.000218</td>\n",
       "      <td>0.001795</td>\n",
       "      <td>0.000585</td>\n",
       "      <td>0.000659</td>\n",
       "      <td>0.005833</td>\n",
       "      <td>0.000246</td>\n",
       "      <td>0.000254</td>\n",
       "    </tr>\n",
       "    <tr>\n",
       "      <td>1101574476297314311</td>\n",
       "      <td>0.000511</td>\n",
       "      <td>0.000661</td>\n",
       "      <td>0.000512</td>\n",
       "      <td>0.000524</td>\n",
       "      <td>0.000587</td>\n",
       "      <td>0.000395</td>\n",
       "      <td>0.000638</td>\n",
       "    </tr>\n",
       "    <tr>\n",
       "      <td>1101574488225918976</td>\n",
       "      <td>0.002658</td>\n",
       "      <td>0.001162</td>\n",
       "      <td>0.000342</td>\n",
       "      <td>0.000286</td>\n",
       "      <td>0.001092</td>\n",
       "      <td>0.000258</td>\n",
       "      <td>0.001009</td>\n",
       "    </tr>\n",
       "    <tr>\n",
       "      <td>1101574491430375428</td>\n",
       "      <td>0.001358</td>\n",
       "      <td>0.001863</td>\n",
       "      <td>0.001931</td>\n",
       "      <td>0.002736</td>\n",
       "      <td>0.002146</td>\n",
       "      <td>0.001339</td>\n",
       "      <td>0.001802</td>\n",
       "    </tr>\n",
       "    <tr>\n",
       "      <td>1101574513450459138</td>\n",
       "      <td>0.000390</td>\n",
       "      <td>0.000532</td>\n",
       "      <td>0.000558</td>\n",
       "      <td>0.000773</td>\n",
       "      <td>0.000607</td>\n",
       "      <td>0.000385</td>\n",
       "      <td>0.000508</td>\n",
       "    </tr>\n",
       "    <tr>\n",
       "      <td>1101574525622329344</td>\n",
       "      <td>0.008266</td>\n",
       "      <td>0.000425</td>\n",
       "      <td>0.000297</td>\n",
       "      <td>0.001051</td>\n",
       "      <td>0.000963</td>\n",
       "      <td>0.000553</td>\n",
       "      <td>0.000346</td>\n",
       "    </tr>\n",
       "    <tr>\n",
       "      <td>1101574533465681920</td>\n",
       "      <td>0.003521</td>\n",
       "      <td>0.000188</td>\n",
       "      <td>0.000148</td>\n",
       "      <td>0.000444</td>\n",
       "      <td>0.000408</td>\n",
       "      <td>0.000242</td>\n",
       "      <td>0.000144</td>\n",
       "    </tr>\n",
       "    <tr>\n",
       "      <td>1101574542147780609</td>\n",
       "      <td>0.001452</td>\n",
       "      <td>0.002004</td>\n",
       "      <td>0.001598</td>\n",
       "      <td>0.001908</td>\n",
       "      <td>0.002061</td>\n",
       "      <td>0.003321</td>\n",
       "      <td>0.001498</td>\n",
       "    </tr>\n",
       "    <tr>\n",
       "      <td>1101574542261141506</td>\n",
       "      <td>0.000311</td>\n",
       "      <td>0.000428</td>\n",
       "      <td>0.000344</td>\n",
       "      <td>0.000404</td>\n",
       "      <td>0.000437</td>\n",
       "      <td>0.000708</td>\n",
       "      <td>0.000317</td>\n",
       "    </tr>\n",
       "  </tbody>\n",
       "</table>\n",
       "</div>"
      ],
      "text/plain": [
       "                            0         1         2         3         9  \\\n",
       "1101574442575167489  0.000369  0.002738  0.000617  0.000357  0.002133   \n",
       "1101574446341607424  0.000218  0.001795  0.000585  0.000659  0.005833   \n",
       "1101574476297314311  0.000511  0.000661  0.000512  0.000524  0.000587   \n",
       "1101574488225918976  0.002658  0.001162  0.000342  0.000286  0.001092   \n",
       "1101574491430375428  0.001358  0.001863  0.001931  0.002736  0.002146   \n",
       "1101574513450459138  0.000390  0.000532  0.000558  0.000773  0.000607   \n",
       "1101574525622329344  0.008266  0.000425  0.000297  0.001051  0.000963   \n",
       "1101574533465681920  0.003521  0.000188  0.000148  0.000444  0.000408   \n",
       "1101574542147780609  0.001452  0.002004  0.001598  0.001908  0.002061   \n",
       "1101574542261141506  0.000311  0.000428  0.000344  0.000404  0.000437   \n",
       "\n",
       "                           12        15  \n",
       "1101574442575167489  0.000373  0.001195  \n",
       "1101574446341607424  0.000246  0.000254  \n",
       "1101574476297314311  0.000395  0.000638  \n",
       "1101574488225918976  0.000258  0.001009  \n",
       "1101574491430375428  0.001339  0.001802  \n",
       "1101574513450459138  0.000385  0.000508  \n",
       "1101574525622329344  0.000553  0.000346  \n",
       "1101574533465681920  0.000242  0.000144  \n",
       "1101574542147780609  0.003321  0.001498  \n",
       "1101574542261141506  0.000708  0.000317  "
      ]
     },
     "execution_count": 7,
     "metadata": {},
     "output_type": "execute_result"
    }
   ],
   "source": [
    "year = 2019\n",
    "\n",
    "community_similarity = pd.read_csv(data_path+\"tweet_communities{}.csv\".format(year), index_col=0,\n",
    "                                   dtype={'index': np.unicode_})\n",
    "community_similarity.head(10)"
   ]
  },
  {
   "cell_type": "code",
   "execution_count": 8,
   "metadata": {},
   "outputs": [
    {
     "name": "stderr",
     "output_type": "stream",
     "text": [
      "/home/laura/anaconda3/lib/python3.7/site-packages/numpy/core/fromnumeric.py:61: FutureWarning: \n",
      "The current behaviour of 'Series.argmax' is deprecated, use 'idxmax'\n",
      "instead.\n",
      "The behavior of 'argmax' will be corrected to return the positional\n",
      "maximum in the future. For now, use 'series.values.argmax' or\n",
      "'np.argmax(np.array(values))' to get the position of the maximum\n",
      "row.\n",
      "  return bound(*args, **kwds)\n"
     ]
    },
    {
     "data": {
      "image/png": "[encoded data removed]",
      "text/plain": [
       "<Figure size 432x288 with 1 Axes>"
      ]
     },
     "metadata": {
      "needs_background": "light"
     },
     "output_type": "display_data"
    }
   ],
   "source": [
    "# Distribution of tweets in communities\n",
    "comm_list = community_similarity.apply(lambda x: np.argmax(x), axis=1)\n",
    "plt.hist(comm_list.values)\n",
    "plt.show()"
   ]
  },
  {
   "cell_type": "code",
   "execution_count": 9,
   "metadata": {},
   "outputs": [
    {
     "data": {
      "image/png": "[encoded data removed]",
      "text/plain": [
       "<Figure size 576x576 with 2 Axes>"
      ]
     },
     "metadata": {
      "needs_background": "light"
     },
     "output_type": "display_data"
    }
   ],
   "source": [
    "# Correlation matrix\n",
    "fig, axs = plt.subplots(1, 1, figsize=(8,8))\n",
    "axs.imshow(community_similarity.corr())\n",
    "plt.colorbar(axs.imshow(community_similarity.corr()))\n",
    "plt.show()"
   ]
  },
  {
   "cell_type": "code",
   "execution_count": 10,
   "metadata": {},
   "outputs": [
    {
     "data": {
      "text/plain": [
       "0.4641238670694864"
      ]
     },
     "execution_count": 10,
     "metadata": {},
     "output_type": "execute_result"
    }
   ],
   "source": [
    "# check numbero of duplicates in row\n",
    "df = community_similarity.copy()\n",
    "(community_similarity.shape[0] - df.drop_duplicates().shape[0] )/community_similarity.shape[0]"
   ]
  },
  {
   "cell_type": "markdown",
   "metadata": {},
   "source": [
    "## Other useful data"
   ]
  },
  {
   "cell_type": "code",
   "execution_count": 11,
   "metadata": {},
   "outputs": [],
   "source": [
    "# Save networks only with the hashtags in a community (selected)\n",
    "\n",
    "years = set(communities.year.values)\n",
    "for year in years:\n",
    "    # Select ids of the year\n",
    "    curr_ids = list(tweets.df.tweet_id[tweets.df.tweet_date.dt.year == year].values)\n",
    "    # Select communities of the year\n",
    "    curr_communities = communities[communities.year == year]\n",
    "    # Select hashtags of interest\n",
    "    curr_hashtags = hashtags.df[(hashtags.df.tweet_id.isin(curr_ids)) & (hashtags.df.hashtag.isin(curr_communities.hashtag.unique())) ]\n",
    "    # Initialize net class\n",
    "    curr_edges = pd.merge(curr_hashtags, curr_hashtags, on='tweet_id')\n",
    "    curr_edges = curr_edges[['hashtag_x', 'hashtag_y']]\n",
    "    # Discard self loops\n",
    "    self_loops = curr_edges.apply(lambda x: x.hashtag_x == x.hashtag_y, axis = 1)\n",
    "    curr_edges = curr_edges[~self_loops]\n",
    "    # Define net\n",
    "    curr_net= nx.from_pandas_edgelist(curr_edges, source='hashtag_x', target='hashtag_y')\n",
    "    # Save net\n",
    "    nx.write_gexf(curr_net, 'data/communities/hash_net_communities_{}.gexf'.format(year))"
   ]
  },
  {
   "cell_type": "code",
   "execution_count": 12,
   "metadata": {},
   "outputs": [],
   "source": [
    "# Rename columns with the communities labels + normalize on columns\n",
    "\n",
    "years = set(communities.year.values)\n",
    "# Import name-id map\n",
    "labels = pd.read_csv(\"data/communities/name_index_community_map.csv\", dtype=str)\n",
    "\n",
    "for year in years:\n",
    "    # Import files\n",
    "    community_similarity = pd.read_csv(data_path+\"tweet_communities{}.csv\".format(year), index_col=0,\n",
    "                                   dtype={'index': np.unicode_})\n",
    "\n",
    "    # Define dict {cluster_id : cluster_label}\n",
    "    id2name = labels.loc[labels.year==str(year), [\"label\", \"index\"]].set_index(\"index\", drop=True)\n",
    "    id2name = id2name.to_dict()[\"label\"]\n",
    "    \n",
    "    # Rename columns using community names\n",
    "    community_similarity = community_similarity.rename(columns=id2name)\n",
    "    # Normalize columns (L1-norm)\n",
    "    norms = community_similarity.apply(lambda x: sum(x), axis = 0)\n",
    "    community_similarity = community_similarity.apply(lambda col: col/norms[col.name], axis = 0)\n",
    "    # Save results\n",
    "    community_similarity.to_csv(data_path+\"tweet_communities{}.csv\".format(year))"
   ]
  },
  {
   "cell_type": "code",
   "execution_count": 13,
   "metadata": {},
   "outputs": [
    {
     "data": {
      "text/html": [
       "<div>\n",
       "<style scoped>\n",
       "    .dataframe tbody tr th:only-of-type {\n",
       "        vertical-align: middle;\n",
       "    }\n",
       "\n",
       "    .dataframe tbody tr th {\n",
       "        vertical-align: top;\n",
       "    }\n",
       "\n",
       "    .dataframe thead th {\n",
       "        text-align: right;\n",
       "    }\n",
       "</style>\n",
       "<table border=\"1\" class=\"dataframe\">\n",
       "  <thead>\n",
       "    <tr style=\"text-align: right;\">\n",
       "      <th></th>\n",
       "      <th>sustainable_development</th>\n",
       "      <th>greta</th>\n",
       "      <th>endangered_habitats</th>\n",
       "      <th>innovation</th>\n",
       "      <th>renewable_energy</th>\n",
       "      <th>mixed</th>\n",
       "      <th>developement_goals</th>\n",
       "    </tr>\n",
       "  </thead>\n",
       "  <tbody>\n",
       "    <tr>\n",
       "      <td>1101574442575167489</td>\n",
       "      <td>0.000109</td>\n",
       "      <td>0.000670</td>\n",
       "      <td>0.000191</td>\n",
       "      <td>0.000090</td>\n",
       "      <td>0.000507</td>\n",
       "      <td>0.000094</td>\n",
       "      <td>0.000326</td>\n",
       "    </tr>\n",
       "    <tr>\n",
       "      <td>1101574446341607424</td>\n",
       "      <td>0.000065</td>\n",
       "      <td>0.000439</td>\n",
       "      <td>0.000182</td>\n",
       "      <td>0.000166</td>\n",
       "      <td>0.001387</td>\n",
       "      <td>0.000062</td>\n",
       "      <td>0.000069</td>\n",
       "    </tr>\n",
       "    <tr>\n",
       "      <td>1101574476297314311</td>\n",
       "      <td>0.000152</td>\n",
       "      <td>0.000162</td>\n",
       "      <td>0.000159</td>\n",
       "      <td>0.000132</td>\n",
       "      <td>0.000140</td>\n",
       "      <td>0.000100</td>\n",
       "      <td>0.000174</td>\n",
       "    </tr>\n",
       "    <tr>\n",
       "      <td>1101574488225918976</td>\n",
       "      <td>0.000787</td>\n",
       "      <td>0.000284</td>\n",
       "      <td>0.000106</td>\n",
       "      <td>0.000072</td>\n",
       "      <td>0.000260</td>\n",
       "      <td>0.000065</td>\n",
       "      <td>0.000276</td>\n",
       "    </tr>\n",
       "    <tr>\n",
       "      <td>1101574491430375428</td>\n",
       "      <td>0.000402</td>\n",
       "      <td>0.000456</td>\n",
       "      <td>0.000599</td>\n",
       "      <td>0.000691</td>\n",
       "      <td>0.000510</td>\n",
       "      <td>0.000337</td>\n",
       "      <td>0.000492</td>\n",
       "    </tr>\n",
       "  </tbody>\n",
       "</table>\n",
       "</div>"
      ],
      "text/plain": [
       "                     sustainable_development     greta  endangered_habitats  \\\n",
       "1101574442575167489                 0.000109  0.000670             0.000191   \n",
       "1101574446341607424                 0.000065  0.000439             0.000182   \n",
       "1101574476297314311                 0.000152  0.000162             0.000159   \n",
       "1101574488225918976                 0.000787  0.000284             0.000106   \n",
       "1101574491430375428                 0.000402  0.000456             0.000599   \n",
       "\n",
       "                     innovation  renewable_energy     mixed  \\\n",
       "1101574442575167489    0.000090          0.000507  0.000094   \n",
       "1101574446341607424    0.000166          0.001387  0.000062   \n",
       "1101574476297314311    0.000132          0.000140  0.000100   \n",
       "1101574488225918976    0.000072          0.000260  0.000065   \n",
       "1101574491430375428    0.000691          0.000510  0.000337   \n",
       "\n",
       "                     developement_goals  \n",
       "1101574442575167489            0.000326  \n",
       "1101574446341607424            0.000069  \n",
       "1101574476297314311            0.000174  \n",
       "1101574488225918976            0.000276  \n",
       "1101574491430375428            0.000492  "
      ]
     },
     "execution_count": 13,
     "metadata": {},
     "output_type": "execute_result"
    }
   ],
   "source": [
    "# Show last computed result\n",
    "community_similarity.head()"
   ]
  },
  {
   "cell_type": "code",
   "execution_count": 14,
   "metadata": {},
   "outputs": [
    {
     "data": {
      "text/plain": [
       "sustainable_development    1.0\n",
       "greta                      1.0\n",
       "endangered_habitats        1.0\n",
       "innovation                 1.0\n",
       "renewable_energy           1.0\n",
       "mixed                      1.0\n",
       "developement_goals         1.0\n",
       "dtype: float64"
      ]
     },
     "execution_count": 14,
     "metadata": {},
     "output_type": "execute_result"
    }
   ],
   "source": [
    "community_similarity.apply(lambda x: sum(x), axis = 0)"
   ]
  },
  {
   "cell_type": "code",
   "execution_count": null,
   "metadata": {},
   "outputs": [],
   "source": []
  }
 ],
 "metadata": {
  "kernelspec": {
   "display_name": "Python 3",
   "language": "python",
   "name": "python3"
  },
  "language_info": {
   "codemirror_mode": {
    "name": "ipython",
    "version": 3
   },
   "file_extension": ".py",
   "mimetype": "text/x-python",
   "name": "python",
   "nbconvert_exporter": "python",
   "pygments_lexer": "ipython3",
   "version": "3.7.4"
  }
 },
 "nbformat": 4,
 "nbformat_minor": 2
}
