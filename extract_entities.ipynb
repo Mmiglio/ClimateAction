{
 "cells": [
  {
   "cell_type": "code",
   "execution_count": 1,
   "metadata": {},
   "outputs": [],
   "source": [
    "# Dependencies\n",
    "import re\n",
    "import json\n",
    "import pandas as pd\n",
    "import matplotlib.pyplot as plt\n",
    "from langdetect import detect\n",
    "from modules.dataset.tweets import Tweets \n",
    "from modules.dataset.entities import Entities\n",
    "\n",
    "%matplotlib inline\n",
    "\n",
    "# Constants\n",
    "years = [2017, 2018, 2019]"
   ]
  },
  {
   "cell_type": "markdown",
   "metadata": {},
   "source": [
    "# Dataset creation\n",
    "\n",
    "Once words and hashtags are extracted, they are stored in Pandas DataFrames with the following attributes:\n",
    "\n",
    "1. <code> tweet_id </code> : Reference to the tweet ID\n",
    "2. <code> entity_index </code> : Position of the word in the sentence (tweet) - useful to delete self loops \n",
    "3. <code> entity_text </code> : Text\n",
    "4. <code> entity_tag </code> : Part Of Speech tag \n",
    "\t\t\t"
   ]
  },
  {
   "cell_type": "code",
   "execution_count": 2,
   "metadata": {},
   "outputs": [],
   "source": [
    "# Initialize Tweets class\n",
    "tweets = Tweets()\n",
    "# Fill tweets dataframe\n",
    "tweets.from_json('data/db/tweets.json')"
   ]
  },
  {
   "cell_type": "code",
   "execution_count": 3,
   "metadata": {},
   "outputs": [
    {
     "data": {
      "text/plain": [
       "(14433, 3)"
      ]
     },
     "execution_count": 3,
     "metadata": {},
     "output_type": "execute_result"
    }
   ],
   "source": [
    "# Keep only tweets in english\n",
    "# tweets.df = tweets.df[tweets.df.tweet_text.apply(lambda x: detect(x) == 'en')]\n",
    "# Save english tweets\n",
    "# tweets.df.to_json('data/db/tweets.json', )\n",
    "\n",
    "tweets.df.shape"
   ]
  },
  {
   "cell_type": "code",
   "execution_count": 4,
   "metadata": {},
   "outputs": [
    {
     "data": {
      "text/html": [
       "<div>\n",
       "<style scoped>\n",
       "    .dataframe tbody tr th:only-of-type {\n",
       "        vertical-align: middle;\n",
       "    }\n",
       "\n",
       "    .dataframe tbody tr th {\n",
       "        vertical-align: top;\n",
       "    }\n",
       "\n",
       "    .dataframe thead th {\n",
       "        text-align: right;\n",
       "    }\n",
       "</style>\n",
       "<table border=\"1\" class=\"dataframe\">\n",
       "  <thead>\n",
       "    <tr style=\"text-align: right;\">\n",
       "      <th></th>\n",
       "      <th>tweet_id</th>\n",
       "      <th>tweet_date</th>\n",
       "      <th>tweet_text</th>\n",
       "    </tr>\n",
       "  </thead>\n",
       "  <tbody>\n",
       "    <tr>\n",
       "      <td>0</td>\n",
       "      <td>836950901495631872</td>\n",
       "      <td>2017-03-01 14:46:59</td>\n",
       "      <td>TT SINGAPORE 22:46\\n1.Hong Kong\\n2.#JointAddre...</td>\n",
       "    </tr>\n",
       "    <tr>\n",
       "      <td>1</td>\n",
       "      <td>836950882528989184</td>\n",
       "      <td>2017-03-01 14:46:54</td>\n",
       "      <td>Letting #snapchat prepare me for the day's uns...</td>\n",
       "    </tr>\n",
       "    <tr>\n",
       "      <td>2</td>\n",
       "      <td>836950869639835649</td>\n",
       "      <td>2017-03-01 14:46:51</td>\n",
       "      <td>\"The bill would require the state to get all o...</td>\n",
       "    </tr>\n",
       "    <tr>\n",
       "      <td>3</td>\n",
       "      <td>836950847380668416</td>\n",
       "      <td>2017-03-01 14:46:46</td>\n",
       "      <td>Style-Lead don't Follow #recycledfashion https...</td>\n",
       "    </tr>\n",
       "    <tr>\n",
       "      <td>4</td>\n",
       "      <td>836950839101116421</td>\n",
       "      <td>2017-03-01 14:46:44</td>\n",
       "      <td>‘Shell knew’: oil giant's 1991 film warned of ...</td>\n",
       "    </tr>\n",
       "  </tbody>\n",
       "</table>\n",
       "</div>"
      ],
      "text/plain": [
       "             tweet_id          tweet_date  \\\n",
       "0  836950901495631872 2017-03-01 14:46:59   \n",
       "1  836950882528989184 2017-03-01 14:46:54   \n",
       "2  836950869639835649 2017-03-01 14:46:51   \n",
       "3  836950847380668416 2017-03-01 14:46:46   \n",
       "4  836950839101116421 2017-03-01 14:46:44   \n",
       "\n",
       "                                          tweet_text  \n",
       "0  TT SINGAPORE 22:46\\n1.Hong Kong\\n2.#JointAddre...  \n",
       "1  Letting #snapchat prepare me for the day's uns...  \n",
       "2  \"The bill would require the state to get all o...  \n",
       "3  Style-Lead don't Follow #recycledfashion https...  \n",
       "4  ‘Shell knew’: oil giant's 1991 film warned of ...  "
      ]
     },
     "execution_count": 4,
     "metadata": {},
     "output_type": "execute_result"
    }
   ],
   "source": [
    "tweets.df.head()"
   ]
  },
  {
   "cell_type": "code",
   "execution_count": 5,
   "metadata": {},
   "outputs": [],
   "source": [
    "# Initialize substitution dictionary\n",
    "subs = {}\n",
    "# Load hahstag substitutions\n",
    "with open('data/hashtag_subs.json', 'r') as file:\n",
    "    subs = {**subs, **json.load(file)}\n",
    "# Load contact forms substitutions\n",
    "with open('data/contract_forms.json', 'r') as file:\n",
    "    subs = {**subs, **json.load(file)}"
   ]
  },
  {
   "cell_type": "code",
   "execution_count": 6,
   "metadata": {},
   "outputs": [
    {
     "data": {
      "text/html": [
       "<div>\n",
       "<style scoped>\n",
       "    .dataframe tbody tr th:only-of-type {\n",
       "        vertical-align: middle;\n",
       "    }\n",
       "\n",
       "    .dataframe tbody tr th {\n",
       "        vertical-align: top;\n",
       "    }\n",
       "\n",
       "    .dataframe thead th {\n",
       "        text-align: right;\n",
       "    }\n",
       "</style>\n",
       "<table border=\"1\" class=\"dataframe\">\n",
       "  <thead>\n",
       "    <tr style=\"text-align: right;\">\n",
       "      <th></th>\n",
       "      <th>tweet_id</th>\n",
       "      <th>entity_index</th>\n",
       "      <th>entity_text</th>\n",
       "      <th>entity_tag</th>\n",
       "      <th>entity_conf</th>\n",
       "    </tr>\n",
       "  </thead>\n",
       "  <tbody>\n",
       "    <tr>\n",
       "      <td>226315</td>\n",
       "      <td>1101574442575167489</td>\n",
       "      <td>48</td>\n",
       "      <td>#ClimateChange</td>\n",
       "      <td>#</td>\n",
       "      <td>0.9615</td>\n",
       "    </tr>\n",
       "    <tr>\n",
       "      <td>226316</td>\n",
       "      <td>1101574442575167489</td>\n",
       "      <td>49</td>\n",
       "      <td>#Science</td>\n",
       "      <td>#</td>\n",
       "      <td>0.9843</td>\n",
       "    </tr>\n",
       "    <tr>\n",
       "      <td>226236</td>\n",
       "      <td>1101574446341607424</td>\n",
       "      <td>10</td>\n",
       "      <td>#climatechange</td>\n",
       "      <td>^</td>\n",
       "      <td>0.4659</td>\n",
       "    </tr>\n",
       "    <tr>\n",
       "      <td>226252</td>\n",
       "      <td>1101574446341607424</td>\n",
       "      <td>26</td>\n",
       "      <td>#climateemergency</td>\n",
       "      <td>#</td>\n",
       "      <td>0.2876</td>\n",
       "    </tr>\n",
       "    <tr>\n",
       "      <td>226198</td>\n",
       "      <td>1101574471247380480</td>\n",
       "      <td>16</td>\n",
       "      <td>#climatechange</td>\n",
       "      <td>N</td>\n",
       "      <td>0.5529</td>\n",
       "    </tr>\n",
       "  </tbody>\n",
       "</table>\n",
       "</div>"
      ],
      "text/plain": [
       "                   tweet_id entity_index        entity_text entity_tag  \\\n",
       "226315  1101574442575167489           48     #ClimateChange          #   \n",
       "226316  1101574442575167489           49           #Science          #   \n",
       "226236  1101574446341607424           10     #climatechange          ^   \n",
       "226252  1101574446341607424           26  #climateemergency          #   \n",
       "226198  1101574471247380480           16     #climatechange          N   \n",
       "\n",
       "        entity_conf  \n",
       "226315       0.9615  \n",
       "226316       0.9843  \n",
       "226236       0.4659  \n",
       "226252       0.2876  \n",
       "226198       0.5529  "
      ]
     },
     "execution_count": 6,
     "metadata": {},
     "output_type": "execute_result"
    }
   ],
   "source": [
    "# Get hashtags and words datasets\n",
    "hashtags, words = tweets.get_entities(subs=subs)\n",
    "\n",
    "# OR load hashtags from json\n",
    "# hashtags = Entities()\n",
    "# hashtags.df = pd.read_json('data/db/hashtags.json')\n",
    "\n",
    "hashtags.df.head()"
   ]
  },
  {
   "cell_type": "code",
   "execution_count": 7,
   "metadata": {},
   "outputs": [
    {
     "data": {
      "text/html": [
       "<div>\n",
       "<style scoped>\n",
       "    .dataframe tbody tr th:only-of-type {\n",
       "        vertical-align: middle;\n",
       "    }\n",
       "\n",
       "    .dataframe tbody tr th {\n",
       "        vertical-align: top;\n",
       "    }\n",
       "\n",
       "    .dataframe thead th {\n",
       "        text-align: right;\n",
       "    }\n",
       "</style>\n",
       "<table border=\"1\" class=\"dataframe\">\n",
       "  <thead>\n",
       "    <tr style=\"text-align: right;\">\n",
       "      <th></th>\n",
       "      <th>tweet_id</th>\n",
       "      <th>entity_index</th>\n",
       "      <th>entity_text</th>\n",
       "      <th>entity_tag</th>\n",
       "      <th>entity_conf</th>\n",
       "    </tr>\n",
       "  </thead>\n",
       "  <tbody>\n",
       "    <tr>\n",
       "      <td>208036</td>\n",
       "      <td>1101574442575167489</td>\n",
       "      <td>0</td>\n",
       "      <td>\"</td>\n",
       "      <td>,</td>\n",
       "      <td>0.9852</td>\n",
       "    </tr>\n",
       "    <tr>\n",
       "      <td>208037</td>\n",
       "      <td>1101574442575167489</td>\n",
       "      <td>1</td>\n",
       "      <td>our</td>\n",
       "      <td>D</td>\n",
       "      <td>0.9937</td>\n",
       "    </tr>\n",
       "    <tr>\n",
       "      <td>208038</td>\n",
       "      <td>1101574442575167489</td>\n",
       "      <td>2</td>\n",
       "      <td>ability</td>\n",
       "      <td>N</td>\n",
       "      <td>0.9969</td>\n",
       "    </tr>\n",
       "    <tr>\n",
       "      <td>208039</td>\n",
       "      <td>1101574442575167489</td>\n",
       "      <td>3</td>\n",
       "      <td>to</td>\n",
       "      <td>P</td>\n",
       "      <td>0.9993</td>\n",
       "    </tr>\n",
       "    <tr>\n",
       "      <td>208040</td>\n",
       "      <td>1101574442575167489</td>\n",
       "      <td>4</td>\n",
       "      <td>detect</td>\n",
       "      <td>V</td>\n",
       "      <td>0.9977</td>\n",
       "    </tr>\n",
       "  </tbody>\n",
       "</table>\n",
       "</div>"
      ],
      "text/plain": [
       "                   tweet_id entity_index entity_text entity_tag  entity_conf\n",
       "208036  1101574442575167489            0           \"          ,       0.9852\n",
       "208037  1101574442575167489            1         our          D       0.9937\n",
       "208038  1101574442575167489            2     ability          N       0.9969\n",
       "208039  1101574442575167489            3          to          P       0.9993\n",
       "208040  1101574442575167489            4      detect          V       0.9977"
      ]
     },
     "execution_count": 7,
     "metadata": {},
     "output_type": "execute_result"
    }
   ],
   "source": [
    "# OR load words from json\n",
    "# words = Entities()\n",
    "# words.df = pd.read_json('data/db/words.json')\n",
    "words.df.head()"
   ]
  },
  {
   "cell_type": "code",
   "execution_count": 8,
   "metadata": {},
   "outputs": [],
   "source": [
    "# Save data\n",
    "hashtags.to_json('data/db/hashtags.json')\n",
    "words.to_json('data/db/words.json')"
   ]
  },
  {
   "cell_type": "markdown",
   "metadata": {},
   "source": [
    "## Words filtering"
   ]
  },
  {
   "cell_type": "code",
   "execution_count": 9,
   "metadata": {},
   "outputs": [],
   "source": [
    "# Recognize pronouns and clean from symbols\n",
    "words.clean_entities()"
   ]
  },
  {
   "cell_type": "code",
   "execution_count": 10,
   "metadata": {},
   "outputs": [
    {
     "data": {
      "text/plain": [
       "13544"
      ]
     },
     "execution_count": 10,
     "metadata": {},
     "output_type": "execute_result"
    }
   ],
   "source": [
    "# Automatically and manually found pronouns\n",
    "words.df[words.df.entity_tag == 'O'].shape[0]"
   ]
  },
  {
   "cell_type": "code",
   "execution_count": 11,
   "metadata": {},
   "outputs": [
    {
     "data": {
      "text/plain": [
       "13468"
      ]
     },
     "execution_count": 11,
     "metadata": {},
     "output_type": "execute_result"
    }
   ],
   "source": [
    "# Manually found pronouns\n",
    "words.df[(words.df.entity_conf == 1.0) & (words.df.entity_tag == 'O')].shape[0]"
   ]
  },
  {
   "cell_type": "code",
   "execution_count": 12,
   "metadata": {},
   "outputs": [
    {
     "data": {
      "text/html": [
       "<div>\n",
       "<style scoped>\n",
       "    .dataframe tbody tr th:only-of-type {\n",
       "        vertical-align: middle;\n",
       "    }\n",
       "\n",
       "    .dataframe tbody tr th {\n",
       "        vertical-align: top;\n",
       "    }\n",
       "\n",
       "    .dataframe thead th {\n",
       "        text-align: right;\n",
       "    }\n",
       "</style>\n",
       "<table border=\"1\" class=\"dataframe\">\n",
       "  <thead>\n",
       "    <tr style=\"text-align: right;\">\n",
       "      <th></th>\n",
       "      <th>tweet_id</th>\n",
       "      <th>entity_index</th>\n",
       "      <th>entity_text</th>\n",
       "      <th>entity_tag</th>\n",
       "      <th>entity_conf</th>\n",
       "    </tr>\n",
       "  </thead>\n",
       "  <tbody>\n",
       "    <tr>\n",
       "      <td>208037</td>\n",
       "      <td>1101574442575167489</td>\n",
       "      <td>1</td>\n",
       "      <td>our</td>\n",
       "      <td>O</td>\n",
       "      <td>1.0000</td>\n",
       "    </tr>\n",
       "    <tr>\n",
       "      <td>208038</td>\n",
       "      <td>1101574442575167489</td>\n",
       "      <td>2</td>\n",
       "      <td>ability</td>\n",
       "      <td>N</td>\n",
       "      <td>0.9969</td>\n",
       "    </tr>\n",
       "    <tr>\n",
       "      <td>208040</td>\n",
       "      <td>1101574442575167489</td>\n",
       "      <td>4</td>\n",
       "      <td>detect</td>\n",
       "      <td>V</td>\n",
       "      <td>0.9977</td>\n",
       "    </tr>\n",
       "    <tr>\n",
       "      <td>208042</td>\n",
       "      <td>1101574442575167489</td>\n",
       "      <td>6</td>\n",
       "      <td>monitor</td>\n",
       "      <td>V</td>\n",
       "      <td>0.7321</td>\n",
       "    </tr>\n",
       "    <tr>\n",
       "      <td>208044</td>\n",
       "      <td>1101574442575167489</td>\n",
       "      <td>8</td>\n",
       "      <td>movement</td>\n",
       "      <td>N</td>\n",
       "      <td>0.9997</td>\n",
       "    </tr>\n",
       "  </tbody>\n",
       "</table>\n",
       "</div>"
      ],
      "text/plain": [
       "                   tweet_id  entity_index entity_text entity_tag  entity_conf\n",
       "208037  1101574442575167489             1         our          O       1.0000\n",
       "208038  1101574442575167489             2     ability          N       0.9969\n",
       "208040  1101574442575167489             4      detect          V       0.9977\n",
       "208042  1101574442575167489             6     monitor          V       0.7321\n",
       "208044  1101574442575167489             8    movement          N       0.9997"
      ]
     },
     "execution_count": 12,
     "metadata": {},
     "output_type": "execute_result"
    }
   ],
   "source": [
    "# Filter on POS tag\n",
    "words.df = words.df[words.df.entity_tag.isin(['N', 'V', 'R', 'A', 'O', 'S'])]\n",
    "words.df.head()"
   ]
  },
  {
   "cell_type": "code",
   "execution_count": 13,
   "metadata": {},
   "outputs": [
    {
     "data": {
      "image/png": "[encoded data removed]",
      "text/plain": [
       "<Figure size 1080x360 with 1 Axes>"
      ]
     },
     "metadata": {
      "needs_background": "light"
     },
     "output_type": "display_data"
    },
    {
     "name": "stdout",
     "output_type": "stream",
     "text": [
      "There are 29771 (18.81%) words under 0.90 confidence interval\n",
      "There will be 128512 (81.19%) words remaining inside 0.90 confidence interval\n"
     ]
    }
   ],
   "source": [
    "# Set threshold on confidence\n",
    "conf = 0.9\n",
    "\n",
    "# Show confidence distribution\n",
    "fig, ax = plt.subplots(figsize=(15, 5))\n",
    "_ = ax.set_title('Confidence distribution for POS tags',fontsize=15)\n",
    "_ = ax.hist(words.df.entity_conf, bins=100)\n",
    "_ = ax.set_xlim(left=0.88, right=1.0)\n",
    "_ = ax.axvline(x=conf, c='r', ls='--')\n",
    "# _ = plt.savefig('images/preprocessing/tag_conf.png')\n",
    "_ = plt.show()\n",
    "\n",
    "# info\n",
    "print('There are {:d} ({:.02f}%) words under {:.2f} confidence interval'.format(\n",
    "    sum(words.df.entity_conf < conf), sum(words.df.entity_conf < conf) / words.df.shape[0] * 100, conf\n",
    "))\n",
    "# info\n",
    "print('There will be {:d} ({:.02f}%) words remaining inside {:.2f} confidence interval'.format(\n",
    "    sum(words.df.entity_conf >= conf), sum(words.df.entity_conf >= conf) / words.df.shape[0] * 100, conf\n",
    "))"
   ]
  },
  {
   "cell_type": "code",
   "execution_count": 14,
   "metadata": {},
   "outputs": [],
   "source": [
    "# Filter on confidence\n",
    "words.df = words.df[words.df.entity_conf >= conf]"
   ]
  },
  {
   "cell_type": "code",
   "execution_count": 15,
   "metadata": {},
   "outputs": [
    {
     "data": {
      "text/html": [
       "<div>\n",
       "<style scoped>\n",
       "    .dataframe tbody tr th:only-of-type {\n",
       "        vertical-align: middle;\n",
       "    }\n",
       "\n",
       "    .dataframe tbody tr th {\n",
       "        vertical-align: top;\n",
       "    }\n",
       "\n",
       "    .dataframe thead th {\n",
       "        text-align: right;\n",
       "    }\n",
       "</style>\n",
       "<table border=\"1\" class=\"dataframe\">\n",
       "  <thead>\n",
       "    <tr style=\"text-align: right;\">\n",
       "      <th></th>\n",
       "      <th>tweet_id</th>\n",
       "      <th>entity_index</th>\n",
       "      <th>entity_text</th>\n",
       "      <th>entity_tag</th>\n",
       "      <th>entity_conf</th>\n",
       "    </tr>\n",
       "  </thead>\n",
       "  <tbody>\n",
       "    <tr>\n",
       "      <td>208037</td>\n",
       "      <td>1101574442575167489</td>\n",
       "      <td>1</td>\n",
       "      <td>our</td>\n",
       "      <td>O</td>\n",
       "      <td>1.0000</td>\n",
       "    </tr>\n",
       "    <tr>\n",
       "      <td>208038</td>\n",
       "      <td>1101574442575167489</td>\n",
       "      <td>2</td>\n",
       "      <td>ability</td>\n",
       "      <td>N</td>\n",
       "      <td>0.9969</td>\n",
       "    </tr>\n",
       "    <tr>\n",
       "      <td>208040</td>\n",
       "      <td>1101574442575167489</td>\n",
       "      <td>4</td>\n",
       "      <td>detect</td>\n",
       "      <td>V</td>\n",
       "      <td>0.9977</td>\n",
       "    </tr>\n",
       "    <tr>\n",
       "      <td>208044</td>\n",
       "      <td>1101574442575167489</td>\n",
       "      <td>8</td>\n",
       "      <td>movement</td>\n",
       "      <td>N</td>\n",
       "      <td>0.9997</td>\n",
       "    </tr>\n",
       "    <tr>\n",
       "      <td>208051</td>\n",
       "      <td>1101574442575167489</td>\n",
       "      <td>15</td>\n",
       "      <td>abominable</td>\n",
       "      <td>A</td>\n",
       "      <td>0.9962</td>\n",
       "    </tr>\n",
       "  </tbody>\n",
       "</table>\n",
       "</div>"
      ],
      "text/plain": [
       "                   tweet_id  entity_index entity_text entity_tag  entity_conf\n",
       "208037  1101574442575167489             1         our          O       1.0000\n",
       "208038  1101574442575167489             2     ability          N       0.9969\n",
       "208040  1101574442575167489             4      detect          V       0.9977\n",
       "208044  1101574442575167489             8    movement          N       0.9997\n",
       "208051  1101574442575167489            15  abominable          A       0.9962"
      ]
     },
     "execution_count": 15,
     "metadata": {},
     "output_type": "execute_result"
    }
   ],
   "source": [
    "words.df.head()"
   ]
  },
  {
   "cell_type": "code",
   "execution_count": 16,
   "metadata": {},
   "outputs": [
    {
     "data": {
      "text/plain": [
       "13501"
      ]
     },
     "execution_count": 16,
     "metadata": {},
     "output_type": "execute_result"
    }
   ],
   "source": [
    "# Number of pronouns after cleaning\n",
    "words.df[words.df.entity_tag == 'O'].shape[0]"
   ]
  },
  {
   "cell_type": "code",
   "execution_count": 17,
   "metadata": {},
   "outputs": [],
   "source": [
    "# Save words data\n",
    "words.to_json('data/db/words.json')"
   ]
  },
  {
   "cell_type": "code",
   "execution_count": 21,
   "metadata": {},
   "outputs": [
    {
     "data": {
      "text/html": [
       "<div>\n",
       "<style scoped>\n",
       "    .dataframe tbody tr th:only-of-type {\n",
       "        vertical-align: middle;\n",
       "    }\n",
       "\n",
       "    .dataframe tbody tr th {\n",
       "        vertical-align: top;\n",
       "    }\n",
       "\n",
       "    .dataframe thead th {\n",
       "        text-align: right;\n",
       "    }\n",
       "</style>\n",
       "<table border=\"1\" class=\"dataframe\">\n",
       "  <thead>\n",
       "    <tr style=\"text-align: right;\">\n",
       "      <th></th>\n",
       "      <th>tweet_id</th>\n",
       "      <th>entity_index</th>\n",
       "      <th>entity_text</th>\n",
       "      <th>entity_tag</th>\n",
       "      <th>entity_conf</th>\n",
       "    </tr>\n",
       "  </thead>\n",
       "  <tbody>\n",
       "    <tr>\n",
       "      <td>255233</td>\n",
       "      <td>1107683197998039041</td>\n",
       "      <td>8</td>\n",
       "      <td>making</td>\n",
       "      <td>V</td>\n",
       "      <td>0.9962</td>\n",
       "    </tr>\n",
       "  </tbody>\n",
       "</table>\n",
       "</div>"
      ],
      "text/plain": [
       "                   tweet_id  entity_index entity_text entity_tag  entity_conf\n",
       "255233  1107683197998039041             8      making          V       0.9962"
      ]
     },
     "execution_count": 21,
     "metadata": {},
     "output_type": "execute_result"
    }
   ],
   "source": [
    "words.df[words.df.entity_text == 'making']"
   ]
  },
  {
   "cell_type": "code",
   "execution_count": null,
   "metadata": {},
   "outputs": [],
   "source": []
  }
 ],
 "metadata": {
  "kernelspec": {
   "display_name": "Python 3",
   "language": "python",
   "name": "python3"
  },
  "language_info": {
   "codemirror_mode": {
    "name": "ipython",
    "version": 3
   },
   "file_extension": ".py",
   "mimetype": "text/x-python",
   "name": "python",
   "nbconvert_exporter": "python",
   "pygments_lexer": "ipython3",
   "version": "3.7.4"
  }
 },
 "nbformat": 4,
 "nbformat_minor": 4
}
