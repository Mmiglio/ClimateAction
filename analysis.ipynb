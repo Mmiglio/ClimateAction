{
 "cells": [
  {
   "cell_type": "code",
   "execution_count": 1,
   "metadata": {
    "jupyter": {
     "outputs_hidden": false,
     "source_hidden": false
    },
    "nteract": {
     "transient": {
      "deleting": false
     }
    }
   },
   "outputs": [
    {
     "name": "stderr",
     "output_type": "stream",
     "text": [
      "[nltk_data] Downloading package wordnet to /home/domenico/nltk_data...\n",
      "[nltk_data]   Package wordnet is already up-to-date!\n",
      "[nltk_data] Downloading package stopwords to\n",
      "[nltk_data]     /home/domenico/nltk_data...\n",
      "[nltk_data]   Package stopwords is already up-to-date!\n"
     ]
    }
   ],
   "source": [
    "# Dependencies\n",
    "import numpy as np\n",
    "import pandas as pd\n",
    "import networkx as nx\n",
    "import matplotlib.pyplot as plt\n",
    "import matplotlib.colors as mc\n",
    "from modules.dataset import load_words\n",
    "from modules.network import get_edges, map_words, get_degree\n",
    "from modules.words import load_data\n",
    "\n",
    "# Set up default colors\n",
    "colors=[*mc.TABLEAU_COLORS.values()]\n",
    "\n",
    "%matplotlib inline"
   ]
  },
  {
   "cell_type": "markdown",
   "metadata": {
    "nteract": {
     "transient": {
      "deleting": false
     }
    }
   },
   "source": [
    "# Dataset\n",
    "\n",
    "## Dataset creation"
   ]
  },
  {
   "cell_type": "code",
   "execution_count": 5,
   "metadata": {
    "jupyter": {
     "outputs_hidden": false,
     "source_hidden": false
    },
    "nteract": {
     "transient": {
      "deleting": false
     }
    }
   },
   "outputs": [
    {
     "data": {
      "text/html": [
       "<div>\n",
       "<style scoped>\n",
       "    .dataframe tbody tr th:only-of-type {\n",
       "        vertical-align: middle;\n",
       "    }\n",
       "\n",
       "    .dataframe tbody tr th {\n",
       "        vertical-align: top;\n",
       "    }\n",
       "\n",
       "    .dataframe thead th {\n",
       "        text-align: right;\n",
       "    }\n",
       "</style>\n",
       "<table border=\"1\" class=\"dataframe\">\n",
       "  <thead>\n",
       "    <tr style=\"text-align: right;\">\n",
       "      <th></th>\n",
       "      <th>tweet</th>\n",
       "      <th>index</th>\n",
       "      <th>text</th>\n",
       "      <th>pos</th>\n",
       "      <th>conf</th>\n",
       "    </tr>\n",
       "  </thead>\n",
       "  <tbody>\n",
       "    <tr>\n",
       "      <th>0</th>\n",
       "      <td>1006327664976617472</td>\n",
       "      <td>1</td>\n",
       "      <td>new</td>\n",
       "      <td>A</td>\n",
       "      <td>0.9980</td>\n",
       "    </tr>\n",
       "    <tr>\n",
       "      <th>1</th>\n",
       "      <td>1006327664976617472</td>\n",
       "      <td>2</td>\n",
       "      <td>paper</td>\n",
       "      <td>N</td>\n",
       "      <td>0.9881</td>\n",
       "    </tr>\n",
       "    <tr>\n",
       "      <th>2</th>\n",
       "      <td>1006327664976617472</td>\n",
       "      <td>5</td>\n",
       "      <td>show</td>\n",
       "      <td>V</td>\n",
       "      <td>0.9870</td>\n",
       "    </tr>\n",
       "    <tr>\n",
       "      <th>3</th>\n",
       "      <td>1006327664976617472</td>\n",
       "      <td>7</td>\n",
       "      <td>temperature</td>\n",
       "      <td>N</td>\n",
       "      <td>0.9922</td>\n",
       "    </tr>\n",
       "    <tr>\n",
       "      <th>4</th>\n",
       "      <td>1006327664976617472</td>\n",
       "      <td>8</td>\n",
       "      <td>goal</td>\n",
       "      <td>N</td>\n",
       "      <td>0.9671</td>\n",
       "    </tr>\n",
       "  </tbody>\n",
       "</table>\n",
       "</div>"
      ],
      "text/plain": [
       "                 tweet  index         text pos    conf\n",
       "0  1006327664976617472      1          new   A  0.9980\n",
       "1  1006327664976617472      2        paper   N  0.9881\n",
       "2  1006327664976617472      5         show   V  0.9870\n",
       "3  1006327664976617472      7  temperature   N  0.9922\n",
       "4  1006327664976617472      8         goal   N  0.9671"
      ]
     },
     "execution_count": 5,
     "metadata": {},
     "output_type": "execute_result"
    }
   ],
   "source": [
    "# Load words dataset table\n",
    "words = load_words('data/words_greta.csv')\n",
    "words.rename(columns={'id':'tweet'}, inplace=True)\n",
    "words.head()"
   ]
  },
  {
   "cell_type": "code",
   "execution_count": 6,
   "metadata": {
    "jupyter": {
     "outputs_hidden": false,
     "source_hidden": false
    },
    "nteract": {
     "transient": {
      "deleting": false
     }
    }
   },
   "outputs": [],
   "source": [
    "# Retrieve dictionaries mapping lemma tuples to numeric value\n",
    "w2i, i2w = map_words(words)"
   ]
  },
  {
   "cell_type": "code",
   "execution_count": 7,
   "metadata": {
    "jupyter": {
     "outputs_hidden": false,
     "source_hidden": false
    },
    "nteract": {
     "transient": {
      "deleting": false
     }
    }
   },
   "outputs": [
    {
     "data": {
      "text/html": [
       "<div>\n",
       "<style scoped>\n",
       "    .dataframe tbody tr th:only-of-type {\n",
       "        vertical-align: middle;\n",
       "    }\n",
       "\n",
       "    .dataframe tbody tr th {\n",
       "        vertical-align: top;\n",
       "    }\n",
       "\n",
       "    .dataframe thead th {\n",
       "        text-align: right;\n",
       "    }\n",
       "</style>\n",
       "<table border=\"1\" class=\"dataframe\">\n",
       "  <thead>\n",
       "    <tr style=\"text-align: right;\">\n",
       "      <th></th>\n",
       "      <th>tweet</th>\n",
       "      <th>index</th>\n",
       "      <th>text</th>\n",
       "      <th>pos</th>\n",
       "      <th>conf</th>\n",
       "      <th>node</th>\n",
       "    </tr>\n",
       "  </thead>\n",
       "  <tbody>\n",
       "    <tr>\n",
       "      <th>0</th>\n",
       "      <td>1006327664976617472</td>\n",
       "      <td>1</td>\n",
       "      <td>new</td>\n",
       "      <td>A</td>\n",
       "      <td>0.9980</td>\n",
       "      <td>4212</td>\n",
       "    </tr>\n",
       "    <tr>\n",
       "      <th>1</th>\n",
       "      <td>1006327664976617472</td>\n",
       "      <td>2</td>\n",
       "      <td>paper</td>\n",
       "      <td>N</td>\n",
       "      <td>0.9881</td>\n",
       "      <td>4498</td>\n",
       "    </tr>\n",
       "    <tr>\n",
       "      <th>2</th>\n",
       "      <td>1006327664976617472</td>\n",
       "      <td>5</td>\n",
       "      <td>show</td>\n",
       "      <td>V</td>\n",
       "      <td>0.9870</td>\n",
       "      <td>5839</td>\n",
       "    </tr>\n",
       "    <tr>\n",
       "      <th>3</th>\n",
       "      <td>1006327664976617472</td>\n",
       "      <td>7</td>\n",
       "      <td>temperature</td>\n",
       "      <td>N</td>\n",
       "      <td>0.9922</td>\n",
       "      <td>6473</td>\n",
       "    </tr>\n",
       "    <tr>\n",
       "      <th>4</th>\n",
       "      <td>1006327664976617472</td>\n",
       "      <td>8</td>\n",
       "      <td>goal</td>\n",
       "      <td>N</td>\n",
       "      <td>0.9671</td>\n",
       "      <td>2811</td>\n",
       "    </tr>\n",
       "  </tbody>\n",
       "</table>\n",
       "</div>"
      ],
      "text/plain": [
       "                 tweet  index         text pos    conf  node\n",
       "0  1006327664976617472      1          new   A  0.9980  4212\n",
       "1  1006327664976617472      2        paper   N  0.9881  4498\n",
       "2  1006327664976617472      5         show   V  0.9870  5839\n",
       "3  1006327664976617472      7  temperature   N  0.9922  6473\n",
       "4  1006327664976617472      8         goal   N  0.9671  2811"
      ]
     },
     "execution_count": 7,
     "metadata": {},
     "output_type": "execute_result"
    }
   ],
   "source": [
    "# Map lemmas to node numbers\n",
    "words['node'] = words.apply(lambda w: w2i[(w.text, w.pos)], axis=1)\n",
    "words.head()"
   ]
  },
  {
   "cell_type": "code",
   "execution_count": 8,
   "metadata": {
    "jupyter": {
     "outputs_hidden": false,
     "source_hidden": false
    },
    "nteract": {
     "transient": {
      "deleting": false
     }
    }
   },
   "outputs": [
    {
     "data": {
      "text/html": [
       "<div>\n",
       "<style scoped>\n",
       "    .dataframe tbody tr th:only-of-type {\n",
       "        vertical-align: middle;\n",
       "    }\n",
       "\n",
       "    .dataframe tbody tr th {\n",
       "        vertical-align: top;\n",
       "    }\n",
       "\n",
       "    .dataframe thead th {\n",
       "        text-align: right;\n",
       "    }\n",
       "</style>\n",
       "<table border=\"1\" class=\"dataframe\">\n",
       "  <thead>\n",
       "    <tr style=\"text-align: right;\">\n",
       "      <th></th>\n",
       "      <th>created_at</th>\n",
       "      <th>id</th>\n",
       "      <th>text</th>\n",
       "      <th>retweet_count</th>\n",
       "      <th>favorite_count</th>\n",
       "      <th>original_retweet_count</th>\n",
       "      <th>original_favorite</th>\n",
       "    </tr>\n",
       "  </thead>\n",
       "  <tbody>\n",
       "    <tr>\n",
       "      <th>0</th>\n",
       "      <td>2018-06-12 00:09:46+00:00</td>\n",
       "      <td>1006327664976617472</td>\n",
       "      <td>Our new paper in @NatureClimate shows that tem...</td>\n",
       "      <td>0</td>\n",
       "      <td>0</td>\n",
       "      <td>32.0</td>\n",
       "      <td>50.0</td>\n",
       "    </tr>\n",
       "    <tr>\n",
       "      <th>1</th>\n",
       "      <td>2018-06-12 00:09:40+00:00</td>\n",
       "      <td>1006327640226189318</td>\n",
       "      <td>“The transition to accessible and clean energy...</td>\n",
       "      <td>0</td>\n",
       "      <td>0</td>\n",
       "      <td>128.0</td>\n",
       "      <td>174.0</td>\n",
       "    </tr>\n",
       "    <tr>\n",
       "      <th>2</th>\n",
       "      <td>2018-06-12 00:09:26+00:00</td>\n",
       "      <td>1006327582235688961</td>\n",
       "      <td>The federal government won't lead on climate, ...</td>\n",
       "      <td>0</td>\n",
       "      <td>0</td>\n",
       "      <td>1349.0</td>\n",
       "      <td>2434.0</td>\n",
       "    </tr>\n",
       "    <tr>\n",
       "      <th>3</th>\n",
       "      <td>2018-06-12 00:09:26+00:00</td>\n",
       "      <td>1006327581556084736</td>\n",
       "      <td>Extreme Hurricane Rainfall Expected to Increas...</td>\n",
       "      <td>1</td>\n",
       "      <td>0</td>\n",
       "      <td>NaN</td>\n",
       "      <td>NaN</td>\n",
       "    </tr>\n",
       "    <tr>\n",
       "      <th>4</th>\n",
       "      <td>2018-06-12 00:09:14+00:00</td>\n",
       "      <td>1006327528397697025</td>\n",
       "      <td>\"UN Women: Women To Be Heard When Tackling Cli...</td>\n",
       "      <td>2</td>\n",
       "      <td>1</td>\n",
       "      <td>NaN</td>\n",
       "      <td>NaN</td>\n",
       "    </tr>\n",
       "  </tbody>\n",
       "</table>\n",
       "</div>"
      ],
      "text/plain": [
       "                 created_at                   id  \\\n",
       "0 2018-06-12 00:09:46+00:00  1006327664976617472   \n",
       "1 2018-06-12 00:09:40+00:00  1006327640226189318   \n",
       "2 2018-06-12 00:09:26+00:00  1006327582235688961   \n",
       "3 2018-06-12 00:09:26+00:00  1006327581556084736   \n",
       "4 2018-06-12 00:09:14+00:00  1006327528397697025   \n",
       "\n",
       "                                                text  retweet_count  \\\n",
       "0  Our new paper in @NatureClimate shows that tem...              0   \n",
       "1  “The transition to accessible and clean energy...              0   \n",
       "2  The federal government won't lead on climate, ...              0   \n",
       "3  Extreme Hurricane Rainfall Expected to Increas...              1   \n",
       "4  \"UN Women: Women To Be Heard When Tackling Cli...              2   \n",
       "\n",
       "   favorite_count  original_retweet_count  original_favorite  \n",
       "0               0                    32.0               50.0  \n",
       "1               0                   128.0              174.0  \n",
       "2               0                  1349.0             2434.0  \n",
       "3               0                     NaN                NaN  \n",
       "4               1                     NaN                NaN  "
      ]
     },
     "execution_count": 8,
     "metadata": {},
     "output_type": "execute_result"
    }
   ],
   "source": [
    "# Load tweets dataset table\n",
    "tweets = load_data('greta')\n",
    "tweets.head()"
   ]
  },
  {
   "cell_type": "markdown",
   "metadata": {
    "nteract": {
     "transient": {
      "deleting": false
     }
    }
   },
   "source": [
    "## Dataset statistics\n",
    "\n",
    "### Number of tweets"
   ]
  },
  {
   "cell_type": "code",
   "execution_count": 6,
   "metadata": {
    "jupyter": {
     "outputs_hidden": false,
     "source_hidden": false
    },
    "nteract": {
     "transient": {
      "deleting": false
     }
    }
   },
   "outputs": [
    {
     "data": {
      "image/png": "[encoded data removed]",
      "text/plain": [
       "<Figure size 540x360 with 1 Axes>"
      ]
     },
     "metadata": {
      "needs_background": "light"
     },
     "output_type": "display_data"
    }
   ],
   "source": [
    "# Define words from tweets of pre and the ones from tweets of post\n",
    "pre = 2018\n",
    "post = 2019\n",
    "tweets_pre = tweets.id[tweets.created_at.dt.year == pre].values\n",
    "tweets_post = tweets.id[tweets.created_at.dt.year == post].values\n",
    "\n",
    "# Show tweets distribution\n",
    "fig, ax = plt.subplots(figsize=(7.5, 5))\n",
    "_ = ax.set_title('Tweet count for pre and post analyzed period', fontsize=18)\n",
    "_ = ax.bar(['pre'], [len(tweets_pre)])\n",
    "_ = ax.bar(['post'], [len(tweets_post)])\n",
    "#_ = plt.savefig('images/analysis/tweet_counts.png')\n",
    "_ = plt.show()"
   ]
  },
  {
   "cell_type": "markdown",
   "metadata": {
    "nteract": {
     "transient": {
      "deleting": false
     }
    }
   },
   "source": [
    "### Words count"
   ]
  },
  {
   "cell_type": "code",
   "execution_count": 7,
   "metadata": {
    "jupyter": {
     "outputs_hidden": false,
     "source_hidden": false
    },
    "nteract": {
     "transient": {
      "deleting": false
     }
    }
   },
   "outputs": [
    {
     "data": {
      "image/png": "[encoded data removed]",
      "text/plain": [
       "<Figure size 540x360 with 1 Axes>"
      ]
     },
     "metadata": {
      "needs_background": "light"
     },
     "output_type": "display_data"
    }
   ],
   "source": [
    "# Show word counts in tweets of pre and post respectively\n",
    "fig, ax = plt.subplots(figsize=(7.5, 5))\n",
    "_ = ax.set_title('Word count for pre and post analyzed period', fontsize=18)\n",
    "_ = ax.bar(['pre'], sum(words.tweet.isin(tweets_pre)))\n",
    "_ = ax.bar(['post'], sum(words.tweet.isin(tweets_post)))\n",
    "#_ = plt.savefig('images/analysis/words_counts.png')\n",
    "_ = plt.show()"
   ]
  },
  {
   "cell_type": "markdown",
   "metadata": {
    "nteract": {
     "transient": {
      "deleting": false
     }
    }
   },
   "source": [
    "### Unique words count"
   ]
  },
  {
   "cell_type": "code",
   "execution_count": 8,
   "metadata": {
    "jupyter": {
     "outputs_hidden": false,
     "source_hidden": false
    },
    "nteract": {
     "transient": {
      "deleting": false
     }
    }
   },
   "outputs": [
    {
     "data": {
      "image/png": "[encoded data removed]",
      "text/plain": [
       "<Figure size 540x360 with 1 Axes>"
      ]
     },
     "metadata": {
      "needs_background": "light"
     },
     "output_type": "display_data"
    }
   ],
   "source": [
    "# Show unique word counts in tweets of pre and post respectively\n",
    "\n",
    "unique_words_pre = words.text[words.tweet.isin(tweets_pre)].unique()\n",
    "unique_words_post = words.text[words.tweet.isin(tweets_post)].unique()\n",
    "\n",
    "fig, ax = plt.subplots(figsize=(7.5, 5))\n",
    "_ = ax.set_title('Word count for pre and post analyzed period')\n",
    "_ = ax.bar(['pre'], unique_words_pre.shape[0])\n",
    "_ = ax.bar(['post'], unique_words_post.shape[0])\n",
    "#_ = plt.savefig('images/analysis/nodes_counts.png')\n",
    "_ = plt.show()"
   ]
  },
  {
   "cell_type": "markdown",
   "metadata": {
    "nteract": {
     "transient": {
      "deleting": false
     }
    }
   },
   "source": [
    "### Tweets lengths distributions\n",
    "\n",
    "Histogram shows the distribution of tweet lengths in either pre's and post'2 network. The difference in the two distributions is due to the fact that in november pre the allowed tweet lengths in term of characters has been duplicated by Twitter itself."
   ]
  },
  {
   "cell_type": "code",
   "execution_count": 9,
   "metadata": {
    "jupyter": {
     "outputs_hidden": false,
     "source_hidden": false
    },
    "nteract": {
     "transient": {
      "deleting": false
     }
    }
   },
   "outputs": [
    {
     "data": {
      "image/png": "[encoded data removed]",
      "text/plain": [
       "<Figure size 720x360 with 2 Axes>"
      ]
     },
     "metadata": {
      "needs_background": "light"
     },
     "output_type": "display_data"
    }
   ],
   "source": [
    "# Compute length of each tweet, for either words and characters\n",
    "tweets_ = tweets.loc[:, ['id']]\n",
    "tweets_['len_words'] = tweets.apply(lambda t: len(t.text.split(' ')), axis=1)\n",
    "tweets_['len_chars'] = tweets.apply(lambda t: len(t.text), axis=1)\n",
    "\n",
    "# Get pre and post tweets\n",
    "tweets_pre_ = tweets_[tweets_['id'].isin(tweets_pre)]\n",
    "tweets_post_ = tweets_[tweets_['id'].isin(tweets_post)]\n",
    "\n",
    "# Show distribution of words number per tweet in pre and post\n",
    "fig, axs = plt.subplots(1, 2, figsize=(10, 5))\n",
    "# Word lengths\n",
    "_ = axs[0].set_title('Number of words per tweet',fontsize=18)\n",
    "_ = axs[0].hist(tweets_pre_['len_words'], bins=25, density=True, alpha=.7)\n",
    "_ = axs[0].hist(tweets_post_['len_words'], bins=50, density=True, alpha=.7)\n",
    "_ = axs[0].legend(['Tweet length in pre', 'Tweet length in post'])\n",
    "# Charactes lengths\n",
    "_ = axs[1].set_title('Number of characters per tweet', fontsize=18)\n",
    "_ = axs[1].hist(tweets_pre_['len_chars'], bins=25, density=True, alpha=.7)\n",
    "_ = axs[1].hist(tweets_post_['len_chars'], bins=50, density=True, alpha=.7)\n",
    "_ = axs[1].legend(['Tweet length in pre', 'Tweet length in post'])\n",
    "# Make plot\n",
    "#_ = plt.savefig('images/analysis/tweet_len_distr.png')\n",
    "_ = plt.show()"
   ]
  },
  {
   "cell_type": "markdown",
   "metadata": {},
   "source": [
    "### Hashtag Distribution conditioned to the presence of #climatechange"
   ]
  },
  {
   "cell_type": "markdown",
   "metadata": {
    "nteract": {
     "transient": {
      "deleting": false
     }
    }
   },
   "source": [
    "# Network creation\n",
    "\n",
    "## Edges creation"
   ]
  },
  {
   "cell_type": "code",
   "execution_count": 10,
   "metadata": {
    "jupyter": {
     "outputs_hidden": false,
     "source_hidden": false
    },
    "nteract": {
     "transient": {
      "deleting": false
     }
    }
   },
   "outputs": [],
   "source": [
    "# Define years under examination\n",
    "years = [pre, post]"
   ]
  },
  {
   "cell_type": "code",
   "execution_count": 11,
   "metadata": {
    "jupyter": {
     "outputs_hidden": false,
     "source_hidden": false
    },
    "nteract": {
     "transient": {
      "deleting": false
     }
    }
   },
   "outputs": [
    {
     "name": "stdout",
     "output_type": "stream",
     "text": [
      "                 tweet  index_x text_x pos_x  conf_x  node_x  index_y  \\\n",
      "0  1006327664976617472        1    new     A   0.998    4212        1   \n",
      "1  1006327664976617472        1    new     A   0.998    4212        2   \n",
      "2  1006327664976617472        1    new     A   0.998    4212        5   \n",
      "3  1006327664976617472        1    new     A   0.998    4212        7   \n",
      "4  1006327664976617472        1    new     A   0.998    4212        8   \n",
      "\n",
      "        text_y pos_y  conf_y  node_y  \n",
      "0          new     A  0.9980    4212  \n",
      "1        paper     N  0.9881    4498  \n",
      "2         show     V  0.9870    5839  \n",
      "3  temperature     N  0.9922    6473  \n",
      "4         goal     N  0.9671    2811  \n",
      "                 tweet  index_x text_x pos_x  conf_x  node_x  index_y  text_y  \\\n",
      "0  1101772852863340544        1  voice     N   0.997    7049        1   voice   \n",
      "1  1101772852863340544        1  voice     N   0.997    7049        3    loud   \n",
      "2  1101772852863340544        1  voice     N   0.997    7049        7      we   \n",
      "3  1101772852863340544        1  voice     N   0.997    7049        8    need   \n",
      "4  1101772852863340544        1  voice     N   0.997    7049       10  action   \n",
      "\n",
      "  pos_y  conf_y  node_y  \n",
      "0     N  0.9970    7049  \n",
      "1     A  0.9870    3783  \n",
      "2     O  0.9977    7117  \n",
      "3     V  0.9961    4187  \n",
      "4     N  0.9962      95  \n"
     ]
    }
   ],
   "source": [
    "# Define edges for pre and post (as Pandas DataFrames)\n",
    "edges = dict()\n",
    "# Define edges for each network\n",
    "for y in years:\n",
    "    # Get id of tweets for current year\n",
    "    tweet_ids = tweets.id[tweets.created_at.dt.year == y]\n",
    "    # Compute edges for current year\n",
    "    edges[y] = get_edges(words[words.tweet.isin(tweet_ids)])"
   ]
  },
  {
   "cell_type": "code",
   "execution_count": null,
   "metadata": {
    "jupyter": {
     "outputs_hidden": false,
     "source_hidden": false
    },
    "nteract": {
     "transient": {
      "deleting": false
     }
    }
   },
   "outputs": [],
   "source": [
    "# Save vocabularies to disk\n",
    "#np.save('data/edges_w2i.npy', w2i)  # Save tuple to index vocabulary\n",
    "#np.save('data/edges_i2w.npy', i2w)  # Save index to tuple vocabulary"
   ]
  },
  {
   "cell_type": "code",
   "execution_count": null,
   "metadata": {
    "jupyter": {
     "outputs_hidden": false,
     "source_hidden": false
    },
    "nteract": {
     "transient": {
      "deleting": false
     }
    }
   },
   "outputs": [],
   "source": [
    "# Save edges to disk\n",
    "edges_ = [*years]\n",
    "# Loop through each edges table\n",
    "for i, y in enumerate(years):\n",
    "    # Add year column\n",
    "    edges_[i] = edges[y].copy()\n",
    "    edges_[i]['year'] = y\n",
    "    \n",
    "# Concatenate DataFrames\n",
    "edges_ = pd.concat(edges_, axis=0)\n",
    "# Save dataframe to disk\n",
    "#edges_.to_csv('data/database/edges.csv', index=False)"
   ]
  },
  {
   "cell_type": "code",
   "execution_count": 12,
   "metadata": {
    "jupyter": {
     "outputs_hidden": false,
     "source_hidden": false
    },
    "nteract": {
     "transient": {
      "deleting": false
     }
    }
   },
   "outputs": [
    {
     "name": "stdout",
     "output_type": "stream",
     "text": [
      "Edges for pre's network\n"
     ]
    },
    {
     "data": {
      "text/html": [
       "<div>\n",
       "<style scoped>\n",
       "    .dataframe tbody tr th:only-of-type {\n",
       "        vertical-align: middle;\n",
       "    }\n",
       "\n",
       "    .dataframe tbody tr th {\n",
       "        vertical-align: top;\n",
       "    }\n",
       "\n",
       "    .dataframe thead th {\n",
       "        text-align: right;\n",
       "    }\n",
       "</style>\n",
       "<table border=\"1\" class=\"dataframe\">\n",
       "  <thead>\n",
       "    <tr style=\"text-align: right;\">\n",
       "      <th></th>\n",
       "      <th>node_x</th>\n",
       "      <th>node_y</th>\n",
       "      <th>weight</th>\n",
       "    </tr>\n",
       "  </thead>\n",
       "  <tbody>\n",
       "    <tr>\n",
       "      <td>0</td>\n",
       "      <td>0</td>\n",
       "      <td>917</td>\n",
       "      <td>1</td>\n",
       "    </tr>\n",
       "    <tr>\n",
       "      <td>1</td>\n",
       "      <td>0</td>\n",
       "      <td>1336</td>\n",
       "      <td>1</td>\n",
       "    </tr>\n",
       "    <tr>\n",
       "      <td>2</td>\n",
       "      <td>0</td>\n",
       "      <td>2938</td>\n",
       "      <td>1</td>\n",
       "    </tr>\n",
       "    <tr>\n",
       "      <td>3</td>\n",
       "      <td>0</td>\n",
       "      <td>3584</td>\n",
       "      <td>1</td>\n",
       "    </tr>\n",
       "    <tr>\n",
       "      <td>4</td>\n",
       "      <td>0</td>\n",
       "      <td>3629</td>\n",
       "      <td>1</td>\n",
       "    </tr>\n",
       "  </tbody>\n",
       "</table>\n",
       "</div>"
      ],
      "text/plain": [
       "   node_x  node_y  weight\n",
       "0       0     917       1\n",
       "1       0    1336       1\n",
       "2       0    2938       1\n",
       "3       0    3584       1\n",
       "4       0    3629       1"
      ]
     },
     "execution_count": 12,
     "metadata": {},
     "output_type": "execute_result"
    }
   ],
   "source": [
    "print('Edges for pre\\'s network')\n",
    "edges[pre].head()"
   ]
  },
  {
   "cell_type": "code",
   "execution_count": 13,
   "metadata": {
    "jupyter": {
     "outputs_hidden": false,
     "source_hidden": false
    },
    "nteract": {
     "transient": {
      "deleting": false
     }
    }
   },
   "outputs": [
    {
     "name": "stdout",
     "output_type": "stream",
     "text": [
      "Edges for post's network\n"
     ]
    },
    {
     "data": {
      "text/html": [
       "<div>\n",
       "<style scoped>\n",
       "    .dataframe tbody tr th:only-of-type {\n",
       "        vertical-align: middle;\n",
       "    }\n",
       "\n",
       "    .dataframe tbody tr th {\n",
       "        vertical-align: top;\n",
       "    }\n",
       "\n",
       "    .dataframe thead th {\n",
       "        text-align: right;\n",
       "    }\n",
       "</style>\n",
       "<table border=\"1\" class=\"dataframe\">\n",
       "  <thead>\n",
       "    <tr style=\"text-align: right;\">\n",
       "      <th></th>\n",
       "      <th>node_x</th>\n",
       "      <th>node_y</th>\n",
       "      <th>weight</th>\n",
       "    </tr>\n",
       "  </thead>\n",
       "  <tbody>\n",
       "    <tr>\n",
       "      <td>0</td>\n",
       "      <td>2</td>\n",
       "      <td>872</td>\n",
       "      <td>1</td>\n",
       "    </tr>\n",
       "    <tr>\n",
       "      <td>1</td>\n",
       "      <td>2</td>\n",
       "      <td>1058</td>\n",
       "      <td>1</td>\n",
       "    </tr>\n",
       "    <tr>\n",
       "      <td>2</td>\n",
       "      <td>2</td>\n",
       "      <td>1566</td>\n",
       "      <td>1</td>\n",
       "    </tr>\n",
       "    <tr>\n",
       "      <td>3</td>\n",
       "      <td>2</td>\n",
       "      <td>2044</td>\n",
       "      <td>1</td>\n",
       "    </tr>\n",
       "    <tr>\n",
       "      <td>4</td>\n",
       "      <td>2</td>\n",
       "      <td>2098</td>\n",
       "      <td>1</td>\n",
       "    </tr>\n",
       "  </tbody>\n",
       "</table>\n",
       "</div>"
      ],
      "text/plain": [
       "   node_x  node_y  weight\n",
       "0       2     872       1\n",
       "1       2    1058       1\n",
       "2       2    1566       1\n",
       "3       2    2044       1\n",
       "4       2    2098       1"
      ]
     },
     "execution_count": 13,
     "metadata": {},
     "output_type": "execute_result"
    }
   ],
   "source": [
    "print('Edges for post\\'s network')\n",
    "edges[post].head()"
   ]
  },
  {
   "cell_type": "markdown",
   "metadata": {
    "nteract": {
     "transient": {
      "deleting": false
     }
    }
   },
   "source": [
    "## Adjacency matrices\n",
    "\n",
    "Compute upper triangular adjacency matrices for either pre's and post's networks. \n",
    "\n",
    "Note: adjacency matrices are saved by default to avoid recomputing."
   ]
  },
  {
   "cell_type": "code",
   "execution_count": 14,
   "metadata": {
    "jupyter": {
     "outputs_hidden": false,
     "source_hidden": false
    },
    "nteract": {
     "transient": {
      "deleting": false
     }
    }
   },
   "outputs": [],
   "source": [
    "# Define networks container\n",
    "network = dict()\n",
    "# Create newtorks\n",
    "for y in years:\n",
    "    network[y] = nx.from_pandas_edgelist(edges[y], source='node_x', target='node_y', \n",
    "                                         edge_attr=True, create_using=nx.Graph)"
   ]
  },
  {
   "cell_type": "code",
   "execution_count": 15,
   "metadata": {
    "jupyter": {
     "outputs_hidden": false,
     "source_hidden": false
    },
    "nteract": {
     "transient": {
      "deleting": false
     }
    }
   },
   "outputs": [],
   "source": [
    "# Get numpy adjacency matrices\n",
    "adj_matrix = dict()\n",
    "for y in years:\n",
    "    adj_matrix[y] = nx.to_numpy_matrix(network[y])"
   ]
  },
  {
   "cell_type": "code",
   "execution_count": 16,
   "metadata": {
    "jupyter": {
     "outputs_hidden": false,
     "source_hidden": false
    },
    "nteract": {
     "transient": {
      "deleting": false
     }
    }
   },
   "outputs": [
    {
     "data": {
      "image/png": "[encoded data removed]",
      "text/plain": [
       "<Figure size 1080x360 with 2 Axes>"
      ]
     },
     "metadata": {
      "needs_background": "light"
     },
     "output_type": "display_data"
    }
   ],
   "source": [
    "# Show adjacency matrices\n",
    "fig, axs = plt.subplots(1, 2, figsize=(15, 5))\n",
    "# Print adjacency matrix for each network\n",
    "for i, y in enumerate(years):\n",
    "    _ = axs[i].set_title('{:d}\\'s network adjacency matrix'.format(y))\n",
    "    _ = axs[i].imshow(np.minimum(adj_matrix[y], np.ones(adj_matrix[y].shape)))\n",
    "_ = plt.show()"
   ]
  },
  {
   "cell_type": "code",
   "execution_count": 17,
   "metadata": {
    "jupyter": {
     "outputs_hidden": false,
     "source_hidden": false
    },
    "nteract": {
     "transient": {
      "deleting": false
     }
    }
   },
   "outputs": [
    {
     "data": {
      "text/plain": [
       "(5292, 5292)"
      ]
     },
     "execution_count": 17,
     "metadata": {},
     "output_type": "execute_result"
    }
   ],
   "source": [
    "adj_matrix[pre].shape"
   ]
  },
  {
   "cell_type": "markdown",
   "metadata": {
    "nteract": {
     "transient": {
      "deleting": false
     }
    }
   },
   "source": [
    "## Summary statistics\n",
    "\n",
    "Compute mean, density, and other summary statistics for both pre's and post's networks"
   ]
  },
  {
   "cell_type": "code",
   "execution_count": 18,
   "metadata": {
    "jupyter": {
     "outputs_hidden": false,
     "source_hidden": false
    },
    "nteract": {
     "transient": {
      "deleting": false
     }
    }
   },
   "outputs": [
    {
     "name": "stdout",
     "output_type": "stream",
     "text": [
      "2018's network has mean=0.0375, standard deviation=17.7951 and density=0.0115\n",
      "2019's network has mean=0.0385, standard deviation=21.4409 and density=0.0117\n"
     ]
    }
   ],
   "source": [
    "# Initialize summary statistics\n",
    "mean = {}\n",
    "density = {}\n",
    "std = {}\n",
    "\n",
    "# Compute mean and density\n",
    "for y in years:\n",
    "    x = adj_matrix[y]  # Get adjacency matrix for current network\n",
    "    n = x.shape[0]  # Get dimension of the adjacency matrix\n",
    "    mean[y] = x.sum() / n**2\n",
    "    std[y] = ( ((x - mean[y])**2).sum() / (n**2 - 1) )**.5\n",
    "    density[y] = np.minimum(x, np.ones((n, n))).sum() / n**2\n",
    "    \n",
    "# Print out results\n",
    "for y in years:\n",
    "    print('{:d}\\'s network has mean={:.04f}, standard deviation={:.04f} and density={:.04f}'.format(y, mean[y], std[y], density[y]))"
   ]
  },
  {
   "cell_type": "code",
   "execution_count": 19,
   "metadata": {
    "jupyter": {
     "outputs_hidden": false,
     "source_hidden": false
    },
    "nteract": {
     "transient": {
      "deleting": false
     }
    }
   },
   "outputs": [
    {
     "data": {
      "image/png": "[encoded data removed]",
      "text/plain": [
       "<Figure size 864x360 with 3 Axes>"
      ]
     },
     "metadata": {
      "needs_background": "light"
     },
     "output_type": "display_data"
    }
   ],
   "source": [
    "# Show summary statistics graphically\n",
    "fig, axs = plt.subplots(1, 3, figsize=(12, 5))\n",
    "_ = axs[0].set_title('Mean',fontsize=15)\n",
    "_ = axs[1].set_title('Standard deviation',fontsize=15)\n",
    "_ = axs[2].set_title('Density',fontsize=15)\n",
    "# Print scores for either pre and post\n",
    "for y in years:\n",
    "    _ = axs[0].bar(str(y), mean[y])\n",
    "    _ = axs[1].bar(str(y), std[y])\n",
    "    _ = axs[2].bar(str(y), density[y])\n",
    "# Make plot\n",
    "#_ = plt.savefig('images/analysis/net_stats.png')\n",
    "_ = plt.show()"
   ]
  },
  {
   "cell_type": "markdown",
   "metadata": {
    "nteract": {
     "transient": {
      "deleting": false
     }
    }
   },
   "source": [
    "## Degrees analysis"
   ]
  },
  {
   "cell_type": "code",
   "execution_count": 24,
   "metadata": {
    "jupyter": {
     "outputs_hidden": false,
     "source_hidden": false
    },
    "nteract": {
     "transient": {
      "deleting": false
     }
    }
   },
   "outputs": [
    {
     "data": {
      "image/png": "[encoded data removed]",
      "text/plain": [
       "<Figure size 2160x360 with 1 Axes>"
      ]
     },
     "metadata": {
      "needs_background": "light"
     },
     "output_type": "display_data"
    }
   ],
   "source": [
    "# Compare degrees graphically\n",
    "fig, ax = plt.subplots(figsize=(30, 5))\n",
    "_ = fig.suptitle('Distribution of the networks degrees')\n",
    "_ = ax.hist(get_degree(network[pre]), bins=2000, alpha=0.7)\n",
    "_ = ax.hist(get_degree(network[post]), bins=2000, alpha=0.7)\n",
    "_ = ax.set_xlim(0, 1000)\n",
    "_ = ax.legend(['Degree of the network in pre',\n",
    "               'Degree of the network in post'])\n",
    "#_ = plt.savefig('images/analysis/degree_hist.png')\n",
    "_ = plt.show()"
   ]
  },
  {
   "cell_type": "code",
   "execution_count": 25,
   "metadata": {
    "jupyter": {
     "outputs_hidden": false,
     "source_hidden": false
    },
    "nteract": {
     "transient": {
      "deleting": false
     }
    }
   },
   "outputs": [],
   "source": [
    "# Define function for computing degree analysis (compute pdf, cdf, ...)\n",
    "def make_degree_analysis(network):\n",
    "    \"\"\"\n",
    "    Input:\n",
    "    - degrees Pandas Series node (index) maps to its degree (value)\n",
    "    Output:\n",
    "    - degree: list of degrees\n",
    "    - counts: list containing count for each degree \n",
    "    - pdf (probability distribution function): list\n",
    "    - cdf (cumulative distribution function): list\n",
    "    \"\"\"\n",
    "    # Get number of times a degree appeared in the network\n",
    "    degree = get_degree(network)\n",
    "    degree, count = np.unique(degree.values, return_counts=True)\n",
    "    pdf = count / np.sum(count)  # Compute pdf\n",
    "    cdf = list(1 - np.cumsum(pdf))[:-1] + [0]  # Compute cdf\n",
    "    # Return computed statistics\n",
    "    return degree, count, pdf, cdf"
   ]
  },
  {
   "cell_type": "code",
   "execution_count": 26,
   "metadata": {
    "jupyter": {
     "outputs_hidden": false,
     "source_hidden": false
    },
    "nteract": {
     "transient": {
      "deleting": false
     }
    }
   },
   "outputs": [],
   "source": [
    "# Define function for plotting degree analysis\n",
    "def plot_degree_analysis(network):\n",
    "    \n",
    "    # Initialize plot\n",
    "    fig, axs = plt.subplots(1, 3, figsize=(12, 5))\n",
    "    _ = axs[0].set_title('Probability Distribution',fontsize=14)\n",
    "    _ = axs[1].set_title('Log-log Probability Distribution',fontsize=14)\n",
    "    _ = axs[2].set_title('Log-log Cumulative Distribution',fontsize=14)\n",
    "    \n",
    "    # Create plot fore each network\n",
    "    for i, y in enumerate(network.keys()):\n",
    "        # Compute degree statistics\n",
    "        k, count, pdf, cdf = make_degree_analysis(network[y])\n",
    "        # Make plots\n",
    "        _ = axs[0].plot(k, pdf, 'o', alpha=.7)\n",
    "        _ = axs[1].loglog(k, pdf, 'o', alpha=.7)\n",
    "        _ = axs[2].loglog(k, cdf, 'o', alpha=.7)\n",
    "\n",
    "    # Show plots\n",
    "    _ = [axs[i].legend([str(y) for y in network.keys()], loc='upper right') for i in range(3)]\n",
    "    #_ = plt.savefig('images/analysis/degree_distr.png')\n",
    "    _ = plt.show()"
   ]
  },
  {
   "cell_type": "code",
   "execution_count": 27,
   "metadata": {
    "jupyter": {
     "outputs_hidden": false,
     "source_hidden": false
    },
    "nteract": {
     "transient": {
      "deleting": false
     }
    }
   },
   "outputs": [
    {
     "data": {
      "image/png": "[encoded data removed]",
      "text/plain": [
       "<Figure size 864x360 with 3 Axes>"
      ]
     },
     "metadata": {
      "needs_background": "light"
     },
     "output_type": "display_data"
    }
   ],
   "source": [
    "# Plot pdf, cdf, log-log, ... of each network\n",
    "plot_degree_analysis(network)"
   ]
  },
  {
   "cell_type": "markdown",
   "metadata": {
    "nteract": {
     "transient": {
      "deleting": false
     }
    }
   },
   "source": [
    "# Scale-free property\n",
    "\n",
    "## Power law estimation"
   ]
  },
  {
   "cell_type": "code",
   "execution_count": 35,
   "metadata": {
    "jupyter": {
     "outputs_hidden": false,
     "source_hidden": false
    },
    "nteract": {
     "transient": {
      "deleting": false
     }
    }
   },
   "outputs": [],
   "source": [
    "# Estimate power law parameters for each network\n",
    "\n",
    "# Initialize power law parameters\n",
    "power_law = {\n",
    "    pre: {'k_sat': 9},\n",
    "    post: {'k_sat': 9}\n",
    "}\n",
    "\n",
    "# Define parameters for each network\n",
    "for i, y in enumerate(years):\n",
    "    # Get the unique values of degree and their counts\n",
    "    degree = get_degree(network[y])\n",
    "    k, count = np.unique(degree, return_counts=True)\n",
    "    k_sat = power_law[y]['k_sat']\n",
    "    # Define minumum and maximum k (degree)\n",
    "    power_law[y]['k_min'] = k_min = np.min(k)\n",
    "    power_law[y]['k_max'] = k_max = np.max(k)\n",
    "    # Estimate parameters\n",
    "    n = degree[k_sat:].shape[0]\n",
    "    gamma = 1 + n / np.sum(np.log(degree[k_sat:] / k_sat))\n",
    "    c = (gamma - 1) * k_sat ** (gamma - 1)\n",
    "    # Compute cutoff\n",
    "    cutoff = k_sat * n ** (1 / (gamma - 1))\n",
    "    # Store parameters\n",
    "    power_law[y]['gamma'] = gamma\n",
    "    power_law[y]['c'] = c\n",
    "    power_law[y]['cutoff'] = cutoff"
   ]
  },
  {
   "cell_type": "code",
   "execution_count": 36,
   "metadata": {
    "jupyter": {
     "outputs_hidden": false,
     "source_hidden": false
    },
    "nteract": {
     "transient": {
      "deleting": false
     }
    }
   },
   "outputs": [
    {
     "name": "stdout",
     "output_type": "stream",
     "text": [
      "Power law estimated parameters for 2018's network:\n",
      "  gamma=1.649, c=2.704, cutoff=4874496.978, min.degree=1, max.degree=75648\n",
      "Power law estimated parameters for 2019's network:\n",
      "  gamma=1.643, c=2.642, cutoff=5933276.937, min.degree=1, max.degree=105004\n"
     ]
    }
   ],
   "source": [
    "# Pront out coefficients\n",
    "for y in power_law.keys():\n",
    "    # Retrieve parameters\n",
    "    gamma, c, cutoff = power_law[y]['gamma'], power_law[y]['c'], power_law[y]['cutoff']\n",
    "    k_min, k_max = power_law[y]['k_min'], power_law[y]['k_max']\n",
    "    # Print results\n",
    "    out = 'Power law estimated parameters for {:d}\\'s network:\\n'\n",
    "    out += '  gamma={:.03f}, c={:.03f}, cutoff={:.03f}, min.degree={:d}, max.degree={:d}'\n",
    "    print(out.format(y, gamma, c, cutoff, k_min, k_max))"
   ]
  },
  {
   "cell_type": "code",
   "execution_count": 37,
   "metadata": {
    "jupyter": {
     "outputs_hidden": false,
     "source_hidden": false
    },
    "nteract": {
     "transient": {
      "deleting": false
     }
    }
   },
   "outputs": [
    {
     "data": {
      "image/png": "[encoded data removed]",
      "text/plain": [
       "<Figure size 864x360 with 1 Axes>"
      ]
     },
     "metadata": {
      "needs_background": "light"
     },
     "output_type": "display_data"
    }
   ],
   "source": [
    "# Define regression lines values for either pre and post distributions\n",
    "\n",
    "# Define regression lines container\n",
    "regression_line = {}\n",
    "# Define maximum degree, for both years together\n",
    "k_max = np.max([power_law[y]['k_max'] for y in power_law.keys()])\n",
    "# Compute regression lines\n",
    "for y in power_law.keys():\n",
    "    # Retrieve parameters gamma and c\n",
    "    gamma = power_law[y]['gamma']\n",
    "    c = power_law[y]['c']\n",
    "    # Compute regression line\n",
    "    regression_line[y] = c * np.arange(1, k_max) ** (1 - gamma) / (gamma - 1)\n",
    "\n",
    "# Plot results\n",
    "fig, ax = plt.subplots(figsize=(12, 5))\n",
    "_ = ax.set_title('Log-log Cumulative Distribution Function',fontsize=15)\n",
    "# Print  every network\n",
    "for i, y in enumerate(power_law.keys()):\n",
    "    # Retrieve degree analysis values\n",
    "    k, count, pdf, cdf = make_degree_analysis(network[y])\n",
    "    # Print dots\n",
    "    _ = ax.loglog(k, cdf, 'o', alpha=.7, color=colors[i])\n",
    "    # Print regression line\n",
    "    _ = ax.loglog(np.arange(1, k_max), regression_line[y], color=colors[i])\n",
    "# Make plot\n",
    "_ = ax.legend(['pre']*2 + ['post']*2, loc='lower left')\n",
    "#_ = plt.savefig('images/analysis/power_law.png')\n",
    "_ = plt.show()"
   ]
  },
  {
   "cell_type": "markdown",
   "metadata": {
    "nteract": {
     "transient": {
      "deleting": false
     }
    }
   },
   "source": [
    "# Small-world property\n",
    "\n",
    "## Connected components"
   ]
  },
  {
   "cell_type": "code",
   "execution_count": null,
   "metadata": {
    "jupyter": {
     "outputs_hidden": false,
     "source_hidden": false
    },
    "nteract": {
     "transient": {
      "deleting": false
     }
    }
   },
   "outputs": [],
   "source": [
    "'''# Extract cardinality of connected components and diameter of the giant component for both nets\n",
    "\n",
    "# Initialize components container\n",
    "connected_components = {}\n",
    "\n",
    "# Compute giant component for every network\n",
    "for i, y in enumerate(network.keys()):\n",
    "    # Compute connected component\n",
    "    cc = sorted(nx.connected_components(network[y]), key=len, reverse=True)        \n",
    "    # Compute diameter of the giant component\n",
    "    d = nx.diameter(network[y].subgraph(cc[0]))\n",
    "    # Store the tuple (giant component, cardinality, diameter)\n",
    "    connected_components[y] = []\n",
    "    connected_components[y].append({\n",
    "        'component': cc[0],\n",
    "        'size': len(cc[0]),\n",
    "        'diameter': d\n",
    "    })\n",
    "    \n",
    "    print({\n",
    "        'component': cc[0],\n",
    "        'size': len(cc[0]),\n",
    "        'diameter': d\n",
    "    })\n",
    "    # Store each component\n",
    "    for component in cc[1:]:\n",
    "        # Add component, without diameter\n",
    "        connected_components[y].append({\n",
    "            'component': component,\n",
    "            'size': len(component)\n",
    "        })\n",
    "        print({\n",
    "            'component': component,\n",
    "            'size': len(component)\n",
    "        })\n",
    "        \n",
    "        \n",
    "\n",
    "# Save connected components to disk\n",
    "#np.save('data/connected_components.npy', connected_components)'''"
   ]
  },
  {
   "cell_type": "code",
   "execution_count": null,
   "metadata": {
    "jupyter": {
     "outputs_hidden": false,
     "source_hidden": false
    },
    "nteract": {
     "transient": {
      "deleting": false
     }
    }
   },
   "outputs": [],
   "source": [
    "# Load connected components from file\n",
    "connected_components = np.load('data/connected_components.npy', allow_pickle=True).item()\n",
    "\n",
    "# Show connected components info for each year\n",
    "for y in years:\n",
    "    # Retrieve connected component\n",
    "    cc = connected_components[y]\n",
    "    # Show giant component info\n",
    "    print('Network {:d}'.format(y))\n",
    "    print('Giant component has cardinality={:d} and diameter={:d}'.format(cc[0]['size'], cc[0]['diameter']))\n",
    "    # Store each component\n",
    "    for j, component in enumerate(cc):\n",
    "          if j == 0: continue\n",
    "          # Show other components\n",
    "          print('Connected component nr {:d} has cardinality={:d}'.format(j + 1, component['size']))\n",
    "    print()"
   ]
  },
  {
   "cell_type": "markdown",
   "metadata": {
    "nteract": {
     "transient": {
      "deleting": false
     }
    }
   },
   "source": [
    "## Clustering coefficient"
   ]
  },
  {
   "cell_type": "code",
   "execution_count": 44,
   "metadata": {
    "jupyter": {
     "outputs_hidden": false,
     "source_hidden": false
    },
    "nteract": {
     "transient": {
      "deleting": false
     }
    }
   },
   "outputs": [
    {
     "data": {
      "image/png": "[encoded data removed]",
      "text/plain": [
       "<Figure size 1080x576 with 2 Axes>"
      ]
     },
     "metadata": {
      "needs_background": "light"
     },
     "output_type": "display_data"
    }
   ],
   "source": [
    "# Compute and show chlustering coefficients\n",
    "\n",
    "# Compute clustering coefficients\n",
    "clust_coef = {y: pd.Series(nx.clustering(network[y], weight='weight')) for y in years}\n",
    "\n",
    "# Make plot\n",
    "fig, axs = plt.subplots(1, 2, figsize=(15, 8), sharey=True)\n",
    "# Loop through each network\n",
    "for i, y in enumerate(years):\n",
    "    cc = clust_coef[y]\n",
    "    _ = axs[i].set_title('{:d}\\'s network'.format(y))\n",
    "    _ = axs[i].plot(cc.index.values, cc.values, 'x', mec=colors[i])\n",
    "    _ = axs[i].grid()\n",
    "# Show plot\n",
    "#_ = plt.savefig('images/analysis/clust_coeff.png')\n",
    "_ = plt.show()"
   ]
  },
  {
   "cell_type": "code",
   "execution_count": null,
   "metadata": {
    "jupyter": {
     "outputs_hidden": false,
     "source_hidden": false
    },
    "nteract": {
     "transient": {
      "deleting": false
     }
    }
   },
   "outputs": [],
   "source": [
    "giant = {y: connected_components[y][0]['component'] for y in years}\n",
    "\n",
    "# Compute the average shortest path length for both nets\n",
    "L = {y: nx.average_shortest_path_length(network[y].subgraph(giant[y]), weight='counts', method='floyd-warshall-numpy') for y in years}"
   ]
  },
  {
   "cell_type": "code",
   "execution_count": null,
   "metadata": {
    "jupyter": {
     "outputs_hidden": false,
     "source_hidden": false
    },
    "nteract": {
     "transient": {
      "deleting": false
     }
    }
   },
   "outputs": [],
   "source": [
    "for y in years:\n",
    "    print('Network {:d}'.format(y))\n",
    "    N = len(network[y].nodes)\n",
    "    print('log N: {:.4f}'.format( np.log(N) ))\n",
    "    print('log log N: {:.4f}'.format( np.log( np.log(N) ) ))\n",
    "    print('Average shortest path length: {:.4f}'.format(L[y]))\n",
    "    print('Average clustering coefficient: {:.4f}'.format(np.mean(clust_coef[y])))\n",
    "    print()"
   ]
  },
  {
   "cell_type": "markdown",
   "metadata": {
    "nteract": {
     "transient": {
      "deleting": false
     }
    }
   },
   "source": [
    "# Ranking\n",
    "\n",
    "## Ranking of words\n",
    "\n",
    "### Ranking by degree"
   ]
  },
  {
   "cell_type": "code",
   "execution_count": 39,
   "metadata": {
    "jupyter": {
     "outputs_hidden": false,
     "source_hidden": false
    },
    "nteract": {
     "transient": {
      "deleting": false
     }
    }
   },
   "outputs": [
    {
     "data": {
      "image/png": "[encoded data removed]",
      "text/plain": [
       "<Figure size 1080x360 with 2 Axes>"
      ]
     },
     "metadata": {
      "needs_background": "light"
     },
     "output_type": "display_data"
    }
   ],
   "source": [
    "# Define subset (firs n-th)\n",
    "best = 20\n",
    "\n",
    "# Make plot\n",
    "fig, axs = plt.subplots(1, 2, figsize=(15, 5))\n",
    "# Plot each network\n",
    "for i, y in enumerate(years):\n",
    "    degree = get_degree(network[y]).sort_values(ascending=False)\n",
    "    _ = axs[i].set_title('Best nodes in {:d}\\'s network'.format(y))\n",
    "    _ = axs[i].bar(degree.index[:best].map(lambda x: str(i2w[x])), degree.values[:best], color=colors[i])\n",
    "    _ = axs[i].tick_params(axis='x', labelrotation=60)\n",
    "# Show plot\n",
    "#_ = plt.savefig('images/analysis/words_rank_degree.png', bbox_inches='tight')\n",
    "_ = plt.show()"
   ]
  },
  {
   "cell_type": "markdown",
   "metadata": {
    "nteract": {
     "transient": {
      "deleting": false
     }
    }
   },
   "source": [
    "### Ranking by betweenness"
   ]
  },
  {
   "cell_type": "code",
   "execution_count": 40,
   "metadata": {
    "jupyter": {
     "outputs_hidden": false,
     "source_hidden": false
    },
    "nteract": {
     "transient": {
      "deleting": false
     }
    }
   },
   "outputs": [],
   "source": [
    "'''# Compute betweenness centrality measure for nodes (on giant components)\n",
    "\n",
    "betweenness = {}\n",
    "\n",
    "for y in years:\n",
    "    # Define giant component subgraph\n",
    "    # giant_component = connected_components[y][0]['component']\n",
    "    # subgraph = nx.induced_subgraph(network[y], giant_component)\n",
    "    # Compute betweenness\n",
    "    betweenness[y] = nx.betweenness_centrality(network[y], weight='weight')\n",
    "    \n",
    "# Save betweenness as numpy array\n",
    "np.save('data/betweenness_greta.npy', betweenness)'''"
   ]
  },
  {
   "cell_type": "code",
   "execution_count": 41,
   "metadata": {
    "jupyter": {
     "outputs_hidden": false,
     "source_hidden": false
    },
    "nteract": {
     "transient": {
      "deleting": false
     }
    }
   },
   "outputs": [],
   "source": [
    "# Load betweenness\n",
    "betweenness = np.load('data/betweenness_greta.npy', allow_pickle=True).item()"
   ]
  },
  {
   "cell_type": "code",
   "execution_count": 43,
   "metadata": {
    "jupyter": {
     "outputs_hidden": false,
     "source_hidden": false
    },
    "nteract": {
     "transient": {
      "deleting": false
     }
    }
   },
   "outputs": [
    {
     "data": {
      "image/png": "[encoded data removed]",
      "text/plain": [
       "<Figure size 1080x360 with 2 Axes>"
      ]
     },
     "metadata": {
      "needs_background": "light"
     },
     "output_type": "display_data"
    }
   ],
   "source": [
    "# Define subset (firs n-th)\n",
    "best = 20\n",
    "\n",
    "# Make plot\n",
    "fig, axs = plt.subplots(1, 2, figsize=(15, 5))\n",
    "for i, y in enumerate(years):\n",
    "    btw = pd.Series(betweenness[y]).sort_values(ascending=False)\n",
    "    _ = axs[i].set_title('Best nodes in {:d}\\'s network'.format(y))\n",
    "    _ = axs[i].bar(btw.index[:best].map(lambda x: str(i2w[x])), btw.values[:best], color=colors[i])\n",
    "    _ = axs[i].tick_params(axis='x', labelrotation=60)\n",
    "#_ = plt.savefig('images/analysis/words_rank_btw.png', bbox_inches='tight')\n",
    "_ = plt.show()"
   ]
  },
  {
   "cell_type": "markdown",
   "metadata": {
    "nteract": {
     "transient": {
      "deleting": false
     }
    }
   },
   "source": [
    "## Ranking of verbs"
   ]
  },
  {
   "cell_type": "code",
   "execution_count": null,
   "metadata": {
    "jupyter": {
     "outputs_hidden": false,
     "source_hidden": false
    },
    "nteract": {
     "transient": {
      "deleting": false
     }
    }
   },
   "outputs": [],
   "source": [
    "# Define verbs dictionary\n",
    "verbs2i = {w: w2i[w] for w in w2i.keys() if w[1] == 'V'}"
   ]
  },
  {
   "cell_type": "markdown",
   "metadata": {
    "nteract": {
     "transient": {
      "deleting": false
     }
    }
   },
   "source": [
    "### Ranking by degree"
   ]
  },
  {
   "cell_type": "code",
   "execution_count": null,
   "metadata": {
    "jupyter": {
     "outputs_hidden": false,
     "source_hidden": false
    },
    "nteract": {
     "transient": {
      "deleting": false
     }
    }
   },
   "outputs": [],
   "source": [
    "# Define subset (firs n-th)\n",
    "best = 20\n",
    "\n",
    "# Make plot\n",
    "fig, axs = plt.subplots(1, 2, figsize=(15, 5))\n",
    "# Plot each network\n",
    "for i, y in enumerate(years):\n",
    "    degree = get_degree( network[y].subgraph(list(set(network[y].nodes()) & set(verbs2i.values()))) ).sort_values(ascending=False)\n",
    "    _ = axs[i].set_title('Best verbs in {:d}\\'s network'.format(y))\n",
    "    _ = axs[i].bar(degree.index[:best].map(lambda x: str(i2w[x])), degree.values[:best], color=colors[i])\n",
    "    _ = axs[i].tick_params(axis='x', labelrotation=60)\n",
    "# Show plot\n",
    "_ = plt.savefig('images/analysis/verbs_rank_degree.png', bbox_inches='tight')\n",
    "_ = plt.show()"
   ]
  },
  {
   "cell_type": "markdown",
   "metadata": {
    "nteract": {
     "transient": {
      "deleting": false
     }
    }
   },
   "source": [
    "### Ranking by betweenness"
   ]
  },
  {
   "cell_type": "code",
   "execution_count": null,
   "metadata": {
    "jupyter": {
     "outputs_hidden": false,
     "source_hidden": false
    },
    "nteract": {
     "transient": {
      "deleting": false
     }
    }
   },
   "outputs": [],
   "source": [
    "# Compute betweenness centrality measure for nodes (on giant components)\n",
    "\n",
    "\"\"\"betweenness_verbs = {}\n",
    "\n",
    "for y in years:\n",
    "    # Define giant component subgraph\n",
    "    giant_component = connected_components[y][0]['component']\n",
    "    subgraph = nx.induced_subgraph(network[y], giant_component)\n",
    "    # Compute betweenness\n",
    "    betweenness_verbs[y] = nx.betweenness_centrality(subgraph.subgraph(list(set(network[y].nodes()) & set(verbs2i.values())))\n",
    "                                                     ,weight='weight')\n",
    "    \n",
    "# Save betweenness as numpy array\n",
    "np.save('data/betweenness_verbs.npy', betweenness_verbs)\"\"\""
   ]
  },
  {
   "cell_type": "code",
   "execution_count": null,
   "metadata": {
    "jupyter": {
     "outputs_hidden": false,
     "source_hidden": false
    },
    "nteract": {
     "transient": {
      "deleting": false
     }
    }
   },
   "outputs": [],
   "source": [
    "# Load betweenness\n",
    "betweenness_verbs = np.load('data/betweenness_verbs.npy', allow_pickle=True).item()"
   ]
  },
  {
   "cell_type": "code",
   "execution_count": null,
   "metadata": {
    "jupyter": {
     "outputs_hidden": false,
     "source_hidden": false
    },
    "nteract": {
     "transient": {
      "deleting": false
     }
    }
   },
   "outputs": [],
   "source": [
    "# Define subset (firs n-th)\n",
    "best = 20\n",
    "\n",
    "# Make plot\n",
    "fig, axs = plt.subplots(1, 2, figsize=(15, 5))\n",
    "for i, y in enumerate(years):\n",
    "    btw = pd.Series(betweenness_verbs[y]).sort_values(ascending=False)\n",
    "    _ = axs[i].set_title('Best verbs in {:d}\\'s network'.format(y))\n",
    "    _ = axs[i].bar(btw.index[:best].map(lambda x: str(i2w[x])), btw.values[:best], color=colors[i])\n",
    "    _ = axs[i].tick_params(axis='x', labelrotation=60)\n",
    "_ = plt.savefig('images/analysis/verbs_rank_btw.png', bbox_inches='tight')\n",
    "_ = plt.show()"
   ]
  },
  {
   "cell_type": "markdown",
   "metadata": {
    "nteract": {
     "transient": {
      "deleting": false
     }
    }
   },
   "source": [
    "## Analysis of ranking changes "
   ]
  },
  {
   "cell_type": "markdown",
   "metadata": {
    "nteract": {
     "transient": {
      "deleting": false
     }
    }
   },
   "source": [
    "### All words"
   ]
  },
  {
   "cell_type": "code",
   "execution_count": null,
   "metadata": {
    "jupyter": {
     "outputs_hidden": false,
     "source_hidden": false
    },
    "nteract": {
     "transient": {
      "deleting": false
     }
    }
   },
   "outputs": [],
   "source": [
    "# Define subset (firs n-th)\n",
    "best = 100\n",
    "\n",
    "nodes = set(network[pre].subgraph(connected_components[pre][0]['component']).nodes) & set(network[post].subgraph(\n",
    "    connected_components[post][0]['component']).nodes)\n",
    "\n",
    "# Define percentage of change for btw\n",
    "rate_btw = { node : (betweenness[pre][node] - betweenness[post][node]) / (betweenness[pre][node] + betweenness[post][node]) \n",
    "            for node in nodes if betweenness[pre][node] + betweenness[post][node] != 0 }\n",
    "\n",
    "# Define percentage of change for degree\n",
    "degree17 = get_degree(network[pre]).sort_values(ascending=False)\n",
    "degree18 = get_degree(network[post]).sort_values(ascending=False)\n",
    "\n",
    "rate_degree = { node : (degree17[node] - degree18[node]) / (degree17[node] + degree18[node]) for node in nodes }\n",
    "\n",
    "# Make plot\n",
    "fig, axs = plt.subplots(2, 1, figsize=(15, 10))\n",
    "\n",
    "rate_btw = pd.Series(rate_btw).sort_values(ascending=False)\n",
    "_ = axs[0].set_title('Words with highest percentage of change in betweenness'.format(y))\n",
    "_ = axs[0].bar(rate_btw.index[:best].map(lambda x: str(i2w[x])), rate_btw.values[:best])\n",
    "_ = axs[0].tick_params(axis='x', labelrotation=90)\n",
    "\n",
    "rate_degree = pd.Series(rate_degree).sort_values(ascending=False)\n",
    "_ = axs[1].set_title('Words with highest percentage of change in degree'.format(y))\n",
    "_ = axs[1].bar(rate_degree.index[:best].map(lambda x: str(i2w[x])), rate_degree.values[:best])\n",
    "_ = axs[1].tick_params(axis='x', labelrotation=90)\n",
    "\n",
    "_ = plt.tight_layout()\n",
    "_ = plt.show()"
   ]
  },
  {
   "cell_type": "code",
   "execution_count": null,
   "metadata": {
    "jupyter": {
     "outputs_hidden": false,
     "source_hidden": false
    },
    "nteract": {
     "transient": {
      "deleting": false
     }
    }
   },
   "outputs": [],
   "source": [
    "btw1 = sum(rate_btw == 1)/len(rate_btw)\n",
    "btw2 = sum(rate_btw == -1)/len(rate_btw)\n",
    "btw3 = sum(rate_btw == 0)/len(rate_btw)\n",
    "\n",
    "deg1 = sum(rate_degree == 1)/len(rate_degree)\n",
    "deg2 = sum(rate_degree == -1)/len(rate_degree)\n",
    "deg3 = sum(rate_degree == 0)/len(rate_degree)"
   ]
  },
  {
   "cell_type": "code",
   "execution_count": null,
   "metadata": {
    "jupyter": {
     "outputs_hidden": false,
     "source_hidden": false
    },
    "nteract": {
     "transient": {
      "deleting": false
     }
    }
   },
   "outputs": [],
   "source": [
    "# Show node differences\n",
    "fig, ax = plt.subplots(1,2,figsize=(15, 5), sharey=True)\n",
    "\n",
    "_ = ax[0].set_title('Significative values for the betweenness change rate')\n",
    "_ = ax[0].bar(['% words with rate = 1'], [btw1])\n",
    "_ = ax[0].bar(['% words with rate = -1'], [btw2])\n",
    "_ = ax[0].bar(['% words with rate = 0'], [btw3])\n",
    "\n",
    "_ = ax[1].set_title('Significative values for the degree change rate')\n",
    "_ = ax[1].bar(['% words with rate = 1'], [deg1])\n",
    "_ = ax[1].bar(['% words with rate = -1'], [deg2])\n",
    "_ = ax[1].bar(['% words with rate = 0'], [deg3])\n",
    "\n",
    "_ = plt.tight_layout()\n",
    "_ = plt.savefig('images/analysis/words_change_rank.png')\n",
    "_ = plt.show()"
   ]
  },
  {
   "cell_type": "markdown",
   "metadata": {
    "nteract": {
     "transient": {
      "deleting": false
     }
    }
   },
   "source": [
    "### Verbs\n"
   ]
  },
  {
   "cell_type": "code",
   "execution_count": null,
   "metadata": {
    "jupyter": {
     "outputs_hidden": false,
     "source_hidden": false
    },
    "nteract": {
     "transient": {
      "deleting": false
     }
    }
   },
   "outputs": [],
   "source": [
    "# Define subset (firs n-th)\n",
    "best = 100\n",
    "\n",
    "nodes_verbs = set(network[pre].subgraph( set(connected_components[pre][0]['component']) & set(verbs2i.values()) ).nodes) & set(network[post].subgraph( set(connected_components[post][0]['component']) & set(verbs2i.values()) ).nodes)\n",
    "\n",
    "# Define percentage of change for btw\n",
    "rate_btw_verbs = { node : (betweenness_verbs[pre][node] - betweenness_verbs[post][node]) / (betweenness_verbs[pre][node] + betweenness_verbs[post][node]) \n",
    "            for node in nodes_verbs if betweenness_verbs[pre][node] + betweenness_verbs[post][node] != 0 }\n",
    "\n",
    "# Define percentage pf change for degree\n",
    "degree17 = get_degree(network[pre]).sort_values(ascending=False)\n",
    "degree18 = get_degree(network[post]).sort_values(ascending=False)\n",
    "\n",
    "rate_degree_verbs = { node : (degree17[node] - degree18[node]) / (degree17[node] + degree18[node]) for node in nodes_verbs }\n",
    "\n",
    "# Make plot\n",
    "fig, axs = plt.subplots(2, 1, figsize=(15, 10))\n",
    "\n",
    "rate_btw_verbs = pd.Series(rate_btw_verbs).sort_values(ascending=False)\n",
    "_ = axs[0].set_title('Words with highest percentage of change in betweenness'.format(y))\n",
    "_ = axs[0].bar(rate_btw_verbs.index[:best].map(lambda x: str(i2w[x])), rate_btw_verbs.values[:best])\n",
    "_ = axs[0].tick_params(axis='x', labelrotation=90)\n",
    "\n",
    "rate_degree_verbs = pd.Series(rate_degree_verbs).sort_values(ascending=False)\n",
    "_ = axs[1].set_title('Words with highest percentage of change in degree'.format(y))\n",
    "_ = axs[1].bar(rate_degree_verbs.index[:best].map(lambda x: str(i2w[x])), rate_degree_verbs.values[:best])\n",
    "_ = axs[1].tick_params(axis='x', labelrotation=90)\n",
    "\n",
    "_ = plt.tight_layout()\n",
    "_ = plt.show()"
   ]
  },
  {
   "cell_type": "code",
   "execution_count": null,
   "metadata": {
    "jupyter": {
     "outputs_hidden": false,
     "source_hidden": false
    },
    "nteract": {
     "transient": {
      "deleting": false
     }
    }
   },
   "outputs": [],
   "source": [
    "btw1 = sum(rate_btw_verbs == 1)/len(rate_btw_verbs)\n",
    "btw2 = sum(rate_btw_verbs == -1)/len(rate_btw_verbs)\n",
    "btw3 = sum(rate_btw_verbs == 0)/len(rate_btw_verbs)\n",
    "\n",
    "deg1 = sum(rate_degree_verbs == 1)/len(rate_degree_verbs)\n",
    "deg2 = sum(rate_degree_verbs == -1)/len(rate_degree_verbs)\n",
    "deg3 = sum(rate_degree_verbs == 0)/len(rate_degree_verbs)"
   ]
  },
  {
   "cell_type": "code",
   "execution_count": null,
   "metadata": {
    "jupyter": {
     "outputs_hidden": false,
     "source_hidden": false
    },
    "nteract": {
     "transient": {
      "deleting": false
     }
    }
   },
   "outputs": [],
   "source": [
    "# Show node differences\n",
    "fig, ax = plt.subplots(1,2,figsize=(15, 5), sharey=True)\n",
    "\n",
    "_ = ax[0].set_title('Significative values for the betweenness change rate')\n",
    "_ = ax[0].bar(['% verbs with rate = 1'], [btw1])\n",
    "_ = ax[0].bar(['% verbs with rate = -1'], [btw2])\n",
    "_ = ax[0].bar(['% verbs with rate = 0'], [btw3])\n",
    "\n",
    "_ = ax[1].set_title('Significative values for the degree change rate')\n",
    "_ = ax[1].bar(['% verbs with rate = 1'], [deg1])\n",
    "_ = ax[1].bar(['% verbs with rate = -1'], [deg2])\n",
    "_ = ax[1].bar(['% verbs with rate = 0'], [deg3])\n",
    "\n",
    "_ = plt.tight_layout()\n",
    "_ = plt.savefig('images/analysis/verbs_change_rank.png')\n",
    "_ = plt.show()"
   ]
  },
  {
   "cell_type": "markdown",
   "metadata": {
    "nteract": {
     "transient": {
      "deleting": false
     }
    }
   },
   "source": [
    "## Selected words"
   ]
  },
  {
   "cell_type": "code",
   "execution_count": null,
   "metadata": {
    "jupyter": {
     "outputs_hidden": false,
     "source_hidden": false
    },
    "nteract": {
     "transient": {
      "deleting": false
     }
    }
   },
   "outputs": [],
   "source": [
    "sel_words = [('young', 'A'), ('harassment', 'N'), # big words that change size\n",
    "            ('empower','V'), ('initiative', 'N'), ('discuss','V'), ('education', 'N'), ('dream','N'), ('dignity','N'), #positive 1\n",
    "            ('include','V'), ('safe','A'), ('prevent', 'V'), ('security','N'), #positive 2\n",
    "            ('work','V'), ('assault','N'), ('flee','V'), ('abuse','N')] #specific\n",
    "\n",
    "mask = []\n",
    "for w in sel_words:\n",
    "    if not w2i[w] in nodes:\n",
    "        print(' \"{}\" word not in both networks'.format(w))\n",
    "        print()\n",
    "    else:\n",
    "        #print(' \"{}\" word degree change rate: {}'.format(w, rate_degree[w2i[w]]))\n",
    "        print(' \"{}\" word btw change rate: {}'.format(w, rate_btw[w2i[w]]))\n",
    "        print()\n"
   ]
  },
  {
   "cell_type": "markdown",
   "metadata": {
    "nteract": {
     "transient": {
      "deleting": false
     }
    }
   },
   "source": [
    "## Difference between sets of nodes"
   ]
  },
  {
   "cell_type": "code",
   "execution_count": null,
   "metadata": {
    "jupyter": {
     "outputs_hidden": false,
     "source_hidden": false
    },
    "nteract": {
     "transient": {
      "deleting": false
     }
    }
   },
   "outputs": [],
   "source": [
    "x17 = len(set(network[pre].nodes) - set(network[post].nodes))/len(set(network[pre].nodes)) * 100\n",
    "print('Percentage of words in pre but not in post: {:d} %'.format(int(x17)))"
   ]
  },
  {
   "cell_type": "code",
   "execution_count": null,
   "metadata": {
    "jupyter": {
     "outputs_hidden": false,
     "source_hidden": false
    },
    "nteract": {
     "transient": {
      "deleting": false
     }
    }
   },
   "outputs": [],
   "source": [
    "x18 =  len(set(network[post].nodes) - set(network[pre].nodes)) / len(set(network[post])) * 100\n",
    "print('Percentage of words in post but not in pre: {:d} %'.format(int(x18)))"
   ]
  },
  {
   "cell_type": "code",
   "execution_count": null,
   "metadata": {
    "jupyter": {
     "outputs_hidden": false,
     "source_hidden": false
    },
    "nteract": {
     "transient": {
      "deleting": false
     }
    }
   },
   "outputs": [],
   "source": [
    "# Show node differences\n",
    "fig, ax = plt.subplots(figsize=(7.5, 5))\n",
    "_ = ax.set_title('Difference between sets of nodes')\n",
    "_ = ax.bar(['pre without post'], [x17])\n",
    "_ = ax.bar(['post without pre'], [x18])\n",
    "_ = plt.savefig('images/analysis/node_sets_difference.png')\n",
    "_ = plt.show()"
   ]
  },
  {
   "cell_type": "markdown",
   "metadata": {
    "nteract": {
     "transient": {
      "deleting": false
     }
    }
   },
   "source": [
    "# Assortativity"
   ]
  },
  {
   "cell_type": "markdown",
   "metadata": {
    "nteract": {
     "transient": {
      "deleting": false
     }
    }
   },
   "source": [
    "### Degree assortativity"
   ]
  },
  {
   "cell_type": "code",
   "execution_count": null,
   "metadata": {
    "jupyter": {
     "outputs_hidden": false,
     "source_hidden": false
    },
    "nteract": {
     "transient": {
      "deleting": false
     }
    }
   },
   "outputs": [],
   "source": [
    "print('Assortativity coefficient pre:',nx.degree_assortativity_coefficient( network[pre], weight = 'counts' ))\n",
    "print('Assortativity coefficient post:',nx.degree_assortativity_coefficient( network[post], weight = 'counts' ))"
   ]
  },
  {
   "cell_type": "markdown",
   "metadata": {
    "nteract": {
     "transient": {
      "deleting": false
     }
    }
   },
   "source": [
    "### Node assortativity by attribute"
   ]
  },
  {
   "cell_type": "code",
   "execution_count": null,
   "metadata": {
    "jupyter": {
     "outputs_hidden": false,
     "source_hidden": false
    },
    "nteract": {
     "transient": {
      "deleting": false
     }
    }
   },
   "outputs": [],
   "source": [
    "print('Assortativity coefficient pre:',nx.degree_assortativity_coefficient( network[pre].subgraph(\n",
    "    list(set(network[y].nodes) & set(verbs2i.values()))), weight = 'counts' ))\n",
    "print('Assortativity coefficient post:',nx.degree_assortativity_coefficient( network[post].subgraph(\n",
    "    list(set(network[y].nodes) & set(verbs2i.values()))), weight = 'counts' ))"
   ]
  }
 ],
 "metadata": {
  "kernelspec": {
   "display_name": "Python 3",
   "language": "python",
   "name": "python3"
  },
  "language_info": {
   "codemirror_mode": {
    "name": "ipython",
    "version": 3
   },
   "file_extension": ".py",
   "mimetype": "text/x-python",
   "name": "python",
   "nbconvert_exporter": "python",
   "pygments_lexer": "ipython3",
   "version": "3.6.9"
  }
 },
 "nbformat": 4,
 "nbformat_minor": 1
}
