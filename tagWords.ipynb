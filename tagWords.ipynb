{
 "cells": [
  {
   "cell_type": "code",
   "execution_count": 1,
   "metadata": {},
   "outputs": [],
   "source": [
    "from langdetect import detect\n",
    "import json_lines\n",
    "\n",
    "import pandas as pd"
   ]
  },
  {
   "cell_type": "code",
   "execution_count": 2,
   "metadata": {},
   "outputs": [],
   "source": [
    "def load_jsonl(file):\n",
    "    with open(file, 'rb') as f:\n",
    "        # extract relevant fields from tweets. Be aware that replies\n",
    "        # have a different structure. For example, assuming we would\n",
    "        # like to extract hashtags we need to distinguish between different cases\n",
    "        # (other fields return truncated text and hastags)\n",
    "        list_tweets = list()\n",
    "        for tweet in json_lines.reader(f, broken=True):\n",
    "            tweet_id = tweet['id']\n",
    "            # tweet is a reply / retweet\n",
    "            if 'retweeted_status' in tweet:\n",
    "                try:\n",
    "                    full_tweet = tweet['retweeted_status']['extended_tweet']\n",
    "                    tweet_text = full_tweet['full_text']\n",
    "                except:\n",
    "                    # text and hashtags have not been truncated\n",
    "                    full_tweet = tweet['retweeted_status']\n",
    "                    tweet_text = full_tweet['text']\n",
    "            # no reply\n",
    "            else:\n",
    "                try:\n",
    "                    full_tweet = tweet['extended_tweet']\n",
    "                    tweet_text = full_tweet['full_text']\n",
    "                except:\n",
    "                    full_tweet = tweet\n",
    "                    tweet_text = full_tweet['text']\n",
    "            \n",
    "            # filter tweets with lang != eng\n",
    "            # if detect(tweet_text) != 'en':\n",
    "            # this is quite slow ... skip for now\n",
    "            if False:\n",
    "                continue\n",
    "            else:\n",
    "                list_tweets.append({\n",
    "                    'id': tweet_id,\n",
    "                    'text': tweet_text\n",
    "                })\n",
    "        return list_tweets"
   ]
  },
  {
   "cell_type": "code",
   "execution_count": 3,
   "metadata": {},
   "outputs": [],
   "source": [
    "tweets_pre = pd.DataFrame(load_jsonl('data/preGreta.jsonl'))"
   ]
  },
  {
   "cell_type": "code",
   "execution_count": 4,
   "metadata": {},
   "outputs": [
    {
     "data": {
      "text/html": [
       "<div>\n",
       "<style scoped>\n",
       "    .dataframe tbody tr th:only-of-type {\n",
       "        vertical-align: middle;\n",
       "    }\n",
       "\n",
       "    .dataframe tbody tr th {\n",
       "        vertical-align: top;\n",
       "    }\n",
       "\n",
       "    .dataframe thead th {\n",
       "        text-align: right;\n",
       "    }\n",
       "</style>\n",
       "<table border=\"1\" class=\"dataframe\">\n",
       "  <thead>\n",
       "    <tr style=\"text-align: right;\">\n",
       "      <th></th>\n",
       "      <th>id</th>\n",
       "      <th>text</th>\n",
       "    </tr>\n",
       "  </thead>\n",
       "  <tbody>\n",
       "    <tr>\n",
       "      <th>0</th>\n",
       "      <td>1006327664976617472</td>\n",
       "      <td>Our new paper in @NatureClimate shows that tem...</td>\n",
       "    </tr>\n",
       "    <tr>\n",
       "      <th>1</th>\n",
       "      <td>1006327640226189318</td>\n",
       "      <td>“The transition to accessible and clean energy...</td>\n",
       "    </tr>\n",
       "    <tr>\n",
       "      <th>2</th>\n",
       "      <td>1006327582235688961</td>\n",
       "      <td>The federal government won't lead on climate, ...</td>\n",
       "    </tr>\n",
       "    <tr>\n",
       "      <th>3</th>\n",
       "      <td>1006327581556084736</td>\n",
       "      <td>Extreme Hurricane Rainfall Expected to Increas...</td>\n",
       "    </tr>\n",
       "    <tr>\n",
       "      <th>4</th>\n",
       "      <td>1006327528397697025</td>\n",
       "      <td>\"UN Women: Women To Be Heard When Tackling Cli...</td>\n",
       "    </tr>\n",
       "  </tbody>\n",
       "</table>\n",
       "</div>"
      ],
      "text/plain": [
       "                    id                                               text\n",
       "0  1006327664976617472  Our new paper in @NatureClimate shows that tem...\n",
       "1  1006327640226189318  “The transition to accessible and clean energy...\n",
       "2  1006327582235688961  The federal government won't lead on climate, ...\n",
       "3  1006327581556084736  Extreme Hurricane Rainfall Expected to Increas...\n",
       "4  1006327528397697025  \"UN Women: Women To Be Heard When Tackling Cli..."
      ]
     },
     "execution_count": 4,
     "metadata": {},
     "output_type": "execute_result"
    }
   ],
   "source": [
    "tweets_pre.head()"
   ]
  },
  {
   "cell_type": "code",
   "execution_count": 5,
   "metadata": {},
   "outputs": [],
   "source": [
    "# tag tweets\n",
    "from resources.CMUTweetTagger import runtagger_parse\n",
    "\n",
    "ARK_TWEET_NLP_PATH = 'java -XX:ParallelGCThreads=2 -Xmx500m -jar resources/ark-tweet-nlp-0.3.2/ark-tweet-nlp-0.3.2.jar'\n",
    "\n",
    "tagged_tweets = runtagger_parse(tweets_pre['text'].values, run_tagger_cmd=ARK_TWEET_NLP_PATH)"
   ]
  },
  {
   "cell_type": "code",
   "execution_count": 6,
   "metadata": {},
   "outputs": [
    {
     "data": {
      "text/plain": [
       "[('Our', 'D', 0.9918),\n",
       " ('new', 'A', 0.998),\n",
       " ('paper', 'N', 0.9881),\n",
       " ('in', 'P', 0.9948),\n",
       " ('@NatureClimate', '@', 0.978),\n",
       " ('shows', 'V', 0.987),\n",
       " ('that', 'D', 0.8964),\n",
       " ('temperature', 'N', 0.9922),\n",
       " ('goals', 'N', 0.9671),\n",
       " ('alone', 'R', 0.7253),\n",
       " ('are', 'V', 0.9867),\n",
       " ('not', 'R', 0.9995),\n",
       " ('sufficient', 'A', 0.9398),\n",
       " ('for', 'P', 0.9987),\n",
       " ('understanding', 'V', 0.8635),\n",
       " ('future', 'A', 0.4472),\n",
       " ('#extremeweather', '#', 0.4919),\n",
       " ('-', ',', 0.8946),\n",
       " ('composition', 'N', 0.9941),\n",
       " ('limits', 'N', 0.9563),\n",
       " ('also', 'R', 0.9916),\n",
       " ('needed', 'V', 0.9335),\n",
       " ('@BristolUni', '@', 0.9985),\n",
       " ('@ecioxford', '@', 0.9984),\n",
       " ('@cabotinstitute', '@', 0.9984),\n",
       " ('@ssparrow01', '@', 0.9978),\n",
       " ('#climatechange', '#', 0.9048),\n",
       " ('https://t.co/nUhw7XtRcM', 'U', 0.9931)]"
      ]
     },
     "execution_count": 6,
     "metadata": {},
     "output_type": "execute_result"
    }
   ],
   "source": [
    "tagged_tweets[0]"
   ]
  },
  {
   "cell_type": "code",
   "execution_count": 7,
   "metadata": {},
   "outputs": [],
   "source": [
    "def create_words_df(df, tagged_tweets):\n",
    "    tweets_words = list()\n",
    "    for i, tags in enumerate(tagged_tweets):\n",
    "        tweet_id = df.loc[i, 'id']\n",
    "        for word, tag, conf in tags:\n",
    "            if tag in [\"#\", 'N', 'V', 'R', 'A']:\n",
    "                tweets_words.append({\n",
    "                    'id':tweet_id,\n",
    "                    'word': word.lower(),\n",
    "                    'tag': tag,\n",
    "                    'conf': conf\n",
    "                })\n",
    "                \n",
    "    return pd.DataFrame(tweets_words)"
   ]
  },
  {
   "cell_type": "code",
   "execution_count": 8,
   "metadata": {},
   "outputs": [
    {
     "data": {
      "text/html": [
       "<div>\n",
       "<style scoped>\n",
       "    .dataframe tbody tr th:only-of-type {\n",
       "        vertical-align: middle;\n",
       "    }\n",
       "\n",
       "    .dataframe tbody tr th {\n",
       "        vertical-align: top;\n",
       "    }\n",
       "\n",
       "    .dataframe thead th {\n",
       "        text-align: right;\n",
       "    }\n",
       "</style>\n",
       "<table border=\"1\" class=\"dataframe\">\n",
       "  <thead>\n",
       "    <tr style=\"text-align: right;\">\n",
       "      <th></th>\n",
       "      <th>id</th>\n",
       "      <th>word</th>\n",
       "      <th>tag</th>\n",
       "      <th>conf</th>\n",
       "    </tr>\n",
       "  </thead>\n",
       "  <tbody>\n",
       "    <tr>\n",
       "      <th>0</th>\n",
       "      <td>1006327664976617472</td>\n",
       "      <td>new</td>\n",
       "      <td>A</td>\n",
       "      <td>0.9980</td>\n",
       "    </tr>\n",
       "    <tr>\n",
       "      <th>1</th>\n",
       "      <td>1006327664976617472</td>\n",
       "      <td>paper</td>\n",
       "      <td>N</td>\n",
       "      <td>0.9881</td>\n",
       "    </tr>\n",
       "    <tr>\n",
       "      <th>2</th>\n",
       "      <td>1006327664976617472</td>\n",
       "      <td>shows</td>\n",
       "      <td>V</td>\n",
       "      <td>0.9870</td>\n",
       "    </tr>\n",
       "    <tr>\n",
       "      <th>3</th>\n",
       "      <td>1006327664976617472</td>\n",
       "      <td>temperature</td>\n",
       "      <td>N</td>\n",
       "      <td>0.9922</td>\n",
       "    </tr>\n",
       "    <tr>\n",
       "      <th>4</th>\n",
       "      <td>1006327664976617472</td>\n",
       "      <td>goals</td>\n",
       "      <td>N</td>\n",
       "      <td>0.9671</td>\n",
       "    </tr>\n",
       "  </tbody>\n",
       "</table>\n",
       "</div>"
      ],
      "text/plain": [
       "                    id         word tag    conf\n",
       "0  1006327664976617472          new   A  0.9980\n",
       "1  1006327664976617472        paper   N  0.9881\n",
       "2  1006327664976617472        shows   V  0.9870\n",
       "3  1006327664976617472  temperature   N  0.9922\n",
       "4  1006327664976617472        goals   N  0.9671"
      ]
     },
     "execution_count": 8,
     "metadata": {},
     "output_type": "execute_result"
    }
   ],
   "source": [
    "words_pre = create_words_df(tweets_pre, tagged_tweets)\n",
    "words_pre.head()"
   ]
  },
  {
   "cell_type": "code",
   "execution_count": 9,
   "metadata": {},
   "outputs": [],
   "source": [
    "import matplotlib.pyplot as plt\n",
    "\n",
    "word_counts = words_pre.word.value_counts()\n",
    "word_counts = word_counts[:50]\n",
    "\n",
    "# Plot words count\n",
    "fig, ax = plt.subplots(figsize=(15, 5))\n",
    "_ = ax.set_title('Words distribution')\n",
    "_ = ax.bar(x=word_counts.keys().tolist(), height=word_counts.tolist())\n",
    "_ = ax.tick_params(axis='x', rotation=90)\n",
    "_ = plt.plot()"
   ]
  }
 ],
 "metadata": {
  "kernelspec": {
   "display_name": "Python 3",
   "language": "python",
   "name": "python3"
  },
  "language_info": {
   "codemirror_mode": {
    "name": "ipython",
    "version": 3
   },
   "file_extension": ".py",
   "mimetype": "text/x-python",
   "name": "python",
   "nbconvert_exporter": "python",
   "pygments_lexer": "ipython3",
   "version": "3.6.5"
  }
 },
 "nbformat": 4,
 "nbformat_minor": 2
}
