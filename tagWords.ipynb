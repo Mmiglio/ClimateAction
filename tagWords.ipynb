{
 "cells": [
  {
   "cell_type": "code",
   "execution_count": 127,
   "metadata": {},
   "outputs": [],
   "source": [
    "from resources.CMUTweetTagger import runtagger_parse\n",
    "import matplotlib.pyplot as plt\n",
    "import pandas as pd\n",
    "import re"
   ]
  },
  {
   "cell_type": "code",
   "execution_count": 104,
   "metadata": {
    "scrolled": true
   },
   "outputs": [],
   "source": [
    "tweets_pre = pd.read_csv('data/tweets_preGreta.csv')"
   ]
  },
  {
   "cell_type": "markdown",
   "metadata": {},
   "source": [
    "`original_retweet_count` and `original_favorite` means that the tweet is not a retweet."
   ]
  },
  {
   "cell_type": "code",
   "execution_count": 105,
   "metadata": {},
   "outputs": [
    {
     "data": {
      "text/html": [
       "<div>\n",
       "<style scoped>\n",
       "    .dataframe tbody tr th:only-of-type {\n",
       "        vertical-align: middle;\n",
       "    }\n",
       "\n",
       "    .dataframe tbody tr th {\n",
       "        vertical-align: top;\n",
       "    }\n",
       "\n",
       "    .dataframe thead th {\n",
       "        text-align: right;\n",
       "    }\n",
       "</style>\n",
       "<table border=\"1\" class=\"dataframe\">\n",
       "  <thead>\n",
       "    <tr style=\"text-align: right;\">\n",
       "      <th></th>\n",
       "      <th>created_at</th>\n",
       "      <th>id</th>\n",
       "      <th>text</th>\n",
       "      <th>retweet_count</th>\n",
       "      <th>favorite_count</th>\n",
       "      <th>original_retweet_count</th>\n",
       "      <th>original_favorite</th>\n",
       "    </tr>\n",
       "  </thead>\n",
       "  <tbody>\n",
       "    <tr>\n",
       "      <th>0</th>\n",
       "      <td>Tue Jun 12 00:09:46 +0000 2018</td>\n",
       "      <td>1006327664976617472</td>\n",
       "      <td>Our new paper in @NatureClimate shows that tem...</td>\n",
       "      <td>0</td>\n",
       "      <td>0</td>\n",
       "      <td>32.0</td>\n",
       "      <td>50.0</td>\n",
       "    </tr>\n",
       "    <tr>\n",
       "      <th>1</th>\n",
       "      <td>Tue Jun 12 00:09:40 +0000 2018</td>\n",
       "      <td>1006327640226189318</td>\n",
       "      <td>“The transition to accessible and clean energy...</td>\n",
       "      <td>0</td>\n",
       "      <td>0</td>\n",
       "      <td>128.0</td>\n",
       "      <td>174.0</td>\n",
       "    </tr>\n",
       "    <tr>\n",
       "      <th>2</th>\n",
       "      <td>Tue Jun 12 00:09:26 +0000 2018</td>\n",
       "      <td>1006327582235688961</td>\n",
       "      <td>The federal government won't lead on climate, ...</td>\n",
       "      <td>0</td>\n",
       "      <td>0</td>\n",
       "      <td>1349.0</td>\n",
       "      <td>2434.0</td>\n",
       "    </tr>\n",
       "    <tr>\n",
       "      <th>3</th>\n",
       "      <td>Tue Jun 12 00:09:26 +0000 2018</td>\n",
       "      <td>1006327581556084736</td>\n",
       "      <td>Extreme Hurricane Rainfall Expected to Increas...</td>\n",
       "      <td>1</td>\n",
       "      <td>0</td>\n",
       "      <td>NaN</td>\n",
       "      <td>NaN</td>\n",
       "    </tr>\n",
       "    <tr>\n",
       "      <th>4</th>\n",
       "      <td>Tue Jun 12 00:09:14 +0000 2018</td>\n",
       "      <td>1006327528397697025</td>\n",
       "      <td>\"UN Women: Women To Be Heard When Tackling Cli...</td>\n",
       "      <td>2</td>\n",
       "      <td>1</td>\n",
       "      <td>NaN</td>\n",
       "      <td>NaN</td>\n",
       "    </tr>\n",
       "  </tbody>\n",
       "</table>\n",
       "</div>"
      ],
      "text/plain": [
       "                       created_at                   id  \\\n",
       "0  Tue Jun 12 00:09:46 +0000 2018  1006327664976617472   \n",
       "1  Tue Jun 12 00:09:40 +0000 2018  1006327640226189318   \n",
       "2  Tue Jun 12 00:09:26 +0000 2018  1006327582235688961   \n",
       "3  Tue Jun 12 00:09:26 +0000 2018  1006327581556084736   \n",
       "4  Tue Jun 12 00:09:14 +0000 2018  1006327528397697025   \n",
       "\n",
       "                                                text  retweet_count  \\\n",
       "0  Our new paper in @NatureClimate shows that tem...              0   \n",
       "1  “The transition to accessible and clean energy...              0   \n",
       "2  The federal government won't lead on climate, ...              0   \n",
       "3  Extreme Hurricane Rainfall Expected to Increas...              1   \n",
       "4  \"UN Women: Women To Be Heard When Tackling Cli...              2   \n",
       "\n",
       "   favorite_count  original_retweet_count  original_favorite  \n",
       "0               0                    32.0               50.0  \n",
       "1               0                   128.0              174.0  \n",
       "2               0                  1349.0             2434.0  \n",
       "3               0                     NaN                NaN  \n",
       "4               1                     NaN                NaN  "
      ]
     },
     "execution_count": 105,
     "metadata": {},
     "output_type": "execute_result"
    }
   ],
   "source": [
    "tweets_pre.head()"
   ]
  },
  {
   "cell_type": "markdown",
   "metadata": {},
   "source": [
    "## Tag tweets"
   ]
  },
  {
   "cell_type": "code",
   "execution_count": 106,
   "metadata": {},
   "outputs": [],
   "source": [
    "ARK_TWEET_NLP_PATH = 'java -XX:ParallelGCThreads=2 -Xmx500m -jar resources/ark-tweet-nlp-0.3.2/ark-tweet-nlp-0.3.2.jar'\n",
    "\n",
    "tagged_tweets = runtagger_parse(tweets_pre['text'].values, run_tagger_cmd=ARK_TWEET_NLP_PATH)"
   ]
  },
  {
   "cell_type": "code",
   "execution_count": 107,
   "metadata": {},
   "outputs": [
    {
     "data": {
      "text/plain": [
       "[('Our', 'D', 0.9918),\n",
       " ('new', 'A', 0.998),\n",
       " ('paper', 'N', 0.9881),\n",
       " ('in', 'P', 0.9948),\n",
       " ('@NatureClimate', '@', 0.978),\n",
       " ('shows', 'V', 0.987),\n",
       " ('that', 'D', 0.8964),\n",
       " ('temperature', 'N', 0.9922),\n",
       " ('goals', 'N', 0.9671),\n",
       " ('alone', 'R', 0.7253),\n",
       " ('are', 'V', 0.9867),\n",
       " ('not', 'R', 0.9995),\n",
       " ('sufficient', 'A', 0.9398),\n",
       " ('for', 'P', 0.9987),\n",
       " ('understanding', 'V', 0.8635),\n",
       " ('future', 'A', 0.4472),\n",
       " ('#extremeweather', '#', 0.4919),\n",
       " ('-', ',', 0.8946),\n",
       " ('composition', 'N', 0.9941),\n",
       " ('limits', 'N', 0.9563),\n",
       " ('also', 'R', 0.9916),\n",
       " ('needed', 'V', 0.9335),\n",
       " ('@BristolUni', '@', 0.9985),\n",
       " ('@ecioxford', '@', 0.9984),\n",
       " ('@cabotinstitute', '@', 0.9984),\n",
       " ('@ssparrow01', '@', 0.9978),\n",
       " ('#climatechange', '#', 0.9048),\n",
       " ('https://t.co/nUhw7XtRcM', 'U', 0.9931)]"
      ]
     },
     "execution_count": 107,
     "metadata": {},
     "output_type": "execute_result"
    }
   ],
   "source": [
    "tagged_tweets[0]"
   ]
  },
  {
   "cell_type": "code",
   "execution_count": 109,
   "metadata": {},
   "outputs": [],
   "source": [
    "def create_words_df(df, tagged_tweets):\n",
    "    # Keep only nouns (N), verbs (V), adverbs (R), adjectives (A), pronoun (O) \n",
    "    # For now keep also hashtags\n",
    "    tweets_words = list()\n",
    "    for i, tags in enumerate(tagged_tweets):\n",
    "        tweet_id = df.loc[i, 'id']\n",
    "        for word, tag, conf in tags:\n",
    "            if tag in [\"#\", 'N', 'V', 'R', 'A', 'O']:\n",
    "                tweets_words.append({\n",
    "                    'id':tweet_id,\n",
    "                    'word': word.lower(),\n",
    "                    'tag': tag,\n",
    "                    'conf': conf\n",
    "                })\n",
    "                \n",
    "    return pd.DataFrame(tweets_words)"
   ]
  },
  {
   "cell_type": "code",
   "execution_count": 122,
   "metadata": {},
   "outputs": [
    {
     "data": {
      "text/html": [
       "<div>\n",
       "<style scoped>\n",
       "    .dataframe tbody tr th:only-of-type {\n",
       "        vertical-align: middle;\n",
       "    }\n",
       "\n",
       "    .dataframe tbody tr th {\n",
       "        vertical-align: top;\n",
       "    }\n",
       "\n",
       "    .dataframe thead th {\n",
       "        text-align: right;\n",
       "    }\n",
       "</style>\n",
       "<table border=\"1\" class=\"dataframe\">\n",
       "  <thead>\n",
       "    <tr style=\"text-align: right;\">\n",
       "      <th></th>\n",
       "      <th>id</th>\n",
       "      <th>word</th>\n",
       "      <th>tag</th>\n",
       "      <th>conf</th>\n",
       "    </tr>\n",
       "  </thead>\n",
       "  <tbody>\n",
       "    <tr>\n",
       "      <th>0</th>\n",
       "      <td>1006327664976617472</td>\n",
       "      <td>new</td>\n",
       "      <td>A</td>\n",
       "      <td>0.9980</td>\n",
       "    </tr>\n",
       "    <tr>\n",
       "      <th>1</th>\n",
       "      <td>1006327664976617472</td>\n",
       "      <td>paper</td>\n",
       "      <td>N</td>\n",
       "      <td>0.9881</td>\n",
       "    </tr>\n",
       "    <tr>\n",
       "      <th>2</th>\n",
       "      <td>1006327664976617472</td>\n",
       "      <td>shows</td>\n",
       "      <td>V</td>\n",
       "      <td>0.9870</td>\n",
       "    </tr>\n",
       "    <tr>\n",
       "      <th>3</th>\n",
       "      <td>1006327664976617472</td>\n",
       "      <td>temperature</td>\n",
       "      <td>N</td>\n",
       "      <td>0.9922</td>\n",
       "    </tr>\n",
       "    <tr>\n",
       "      <th>4</th>\n",
       "      <td>1006327664976617472</td>\n",
       "      <td>goals</td>\n",
       "      <td>N</td>\n",
       "      <td>0.9671</td>\n",
       "    </tr>\n",
       "  </tbody>\n",
       "</table>\n",
       "</div>"
      ],
      "text/plain": [
       "                    id         word tag    conf\n",
       "0  1006327664976617472          new   A  0.9980\n",
       "1  1006327664976617472        paper   N  0.9881\n",
       "2  1006327664976617472        shows   V  0.9870\n",
       "3  1006327664976617472  temperature   N  0.9922\n",
       "4  1006327664976617472        goals   N  0.9671"
      ]
     },
     "execution_count": 122,
     "metadata": {},
     "output_type": "execute_result"
    }
   ],
   "source": [
    "words_pre = create_words_df(tweets_pre, tagged_tweets)\n",
    "words.head()"
   ]
  },
  {
   "cell_type": "code",
   "execution_count": 123,
   "metadata": {},
   "outputs": [
    {
     "data": {
      "image/png": "[encoded data removed]",
      "text/plain": [
       "<Figure size 1080x360 with 1 Axes>"
      ]
     },
     "metadata": {},
     "output_type": "display_data"
    }
   ],
   "source": [
    "# check confidence\n",
    "fig, ax = plt.subplots(figsize=(15, 5))\n",
    "_ = ax.set_title('Confidence distribution for POS tags')\n",
    "_ = ax.hist(words_pre.conf, bins=100)\n",
    "_ = ax.set_xlim(left=0.85, right=1.0)\n",
    "_ = ax.axvline(x=0.95, c='r', ls='--')\n",
    "_ = plt.show()"
   ]
  },
  {
   "cell_type": "code",
   "execution_count": 124,
   "metadata": {},
   "outputs": [],
   "source": [
    "words_pre = words_pre[words_pre['conf'] > 0.95]"
   ]
  },
  {
   "cell_type": "code",
   "execution_count": 125,
   "metadata": {},
   "outputs": [
    {
     "data": {
      "image/png": "[encoded data removed]",
      "text/plain": [
       "<Figure size 1080x360 with 1 Axes>"
      ]
     },
     "metadata": {},
     "output_type": "display_data"
    }
   ],
   "source": [
    "word_counts = words_pre.word.value_counts()\n",
    "word_counts = word_counts[:50]\n",
    "\n",
    "# Plot words count\n",
    "fig, ax = plt.subplots(figsize=(15, 5))\n",
    "_ = ax.set_title('Words distribution')\n",
    "_ = ax.bar(x=word_counts.keys().tolist(), height=word_counts.tolist())\n",
    "_ = ax.tick_params(axis='x', rotation=90)\n",
    "_ = plt.plot()"
   ]
  },
  {
   "cell_type": "code",
   "execution_count": 129,
   "metadata": {},
   "outputs": [],
   "source": [
    "words_pre.word = words_pre.word.apply(lambda x: re.sub(r'[#]', '', x))"
   ]
  }
 ],
 "metadata": {
  "kernelspec": {
   "display_name": "Python 3",
   "language": "python",
   "name": "python3"
  },
  "language_info": {
   "codemirror_mode": {
    "name": "ipython",
    "version": 3
   },
   "file_extension": ".py",
   "mimetype": "text/x-python",
   "name": "python",
   "nbconvert_exporter": "python",
   "pygments_lexer": "ipython3",
   "version": "3.6.5"
  }
 },
 "nbformat": 4,
 "nbformat_minor": 2
}
