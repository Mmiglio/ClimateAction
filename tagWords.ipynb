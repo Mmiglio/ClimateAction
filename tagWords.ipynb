{
 "cells": [
  {
   "cell_type": "code",
   "execution_count": 1,
   "metadata": {},
   "outputs": [],
   "source": [
    "from resources.CMUTweetTagger import runtagger_parse\n",
    "import matplotlib.pyplot as plt\n",
    "import pandas as pd\n",
    "import re"
   ]
  },
  {
   "cell_type": "code",
   "execution_count": 3,
   "metadata": {
    "scrolled": true
   },
   "outputs": [
    {
     "data": {
      "text/html": [
       "<div>\n",
       "<style scoped>\n",
       "    .dataframe tbody tr th:only-of-type {\n",
       "        vertical-align: middle;\n",
       "    }\n",
       "\n",
       "    .dataframe tbody tr th {\n",
       "        vertical-align: top;\n",
       "    }\n",
       "\n",
       "    .dataframe thead th {\n",
       "        text-align: right;\n",
       "    }\n",
       "</style>\n",
       "<table border=\"1\" class=\"dataframe\">\n",
       "  <thead>\n",
       "    <tr style=\"text-align: right;\">\n",
       "      <th></th>\n",
       "      <th>created_at</th>\n",
       "      <th>id</th>\n",
       "      <th>text</th>\n",
       "      <th>retweet_count</th>\n",
       "      <th>favorite_count</th>\n",
       "      <th>original_retweet_count</th>\n",
       "      <th>original_favorite</th>\n",
       "    </tr>\n",
       "  </thead>\n",
       "  <tbody>\n",
       "    <tr>\n",
       "      <th>0</th>\n",
       "      <td>2019-03-02 09:14:52+00:00</td>\n",
       "      <td>1101772852863340544</td>\n",
       "      <td>Extinction @ExtinctionR  are right. Only radic...</td>\n",
       "      <td>0</td>\n",
       "      <td>1</td>\n",
       "      <td>NaN</td>\n",
       "      <td>NaN</td>\n",
       "    </tr>\n",
       "    <tr>\n",
       "      <th>1</th>\n",
       "      <td>2019-03-02 09:14:52+00:00</td>\n",
       "      <td>1101772852586409988</td>\n",
       "      <td>“We only have 12 years to fix this” is the mos...</td>\n",
       "      <td>0</td>\n",
       "      <td>0</td>\n",
       "      <td>227.0</td>\n",
       "      <td>1038.0</td>\n",
       "    </tr>\n",
       "    <tr>\n",
       "      <th>2</th>\n",
       "      <td>2019-03-02 09:14:50+00:00</td>\n",
       "      <td>1101772843694608384</td>\n",
       "      <td>Our voices are loud &amp;amp; clear. We need #Clim...</td>\n",
       "      <td>0</td>\n",
       "      <td>0</td>\n",
       "      <td>438.0</td>\n",
       "      <td>1413.0</td>\n",
       "    </tr>\n",
       "    <tr>\n",
       "      <th>3</th>\n",
       "      <td>2019-03-02 09:14:49+00:00</td>\n",
       "      <td>1101772840980832256</td>\n",
       "      <td>@MeganMcCubbin @HouseofCommons @CarolineLucas ...</td>\n",
       "      <td>0</td>\n",
       "      <td>0</td>\n",
       "      <td>25.0</td>\n",
       "      <td>55.0</td>\n",
       "    </tr>\n",
       "    <tr>\n",
       "      <th>4</th>\n",
       "      <td>2019-03-02 09:14:42+00:00</td>\n",
       "      <td>1101772811763412992</td>\n",
       "      <td>We're thanking people working on the climate c...</td>\n",
       "      <td>0</td>\n",
       "      <td>0</td>\n",
       "      <td>55.0</td>\n",
       "      <td>332.0</td>\n",
       "    </tr>\n",
       "  </tbody>\n",
       "</table>\n",
       "</div>"
      ],
      "text/plain": [
       "                 created_at                   id  \\\n",
       "0 2019-03-02 09:14:52+00:00  1101772852863340544   \n",
       "1 2019-03-02 09:14:52+00:00  1101772852586409988   \n",
       "2 2019-03-02 09:14:50+00:00  1101772843694608384   \n",
       "3 2019-03-02 09:14:49+00:00  1101772840980832256   \n",
       "4 2019-03-02 09:14:42+00:00  1101772811763412992   \n",
       "\n",
       "                                                text  retweet_count  \\\n",
       "0  Extinction @ExtinctionR  are right. Only radic...              0   \n",
       "1  “We only have 12 years to fix this” is the mos...              0   \n",
       "2  Our voices are loud &amp; clear. We need #Clim...              0   \n",
       "3  @MeganMcCubbin @HouseofCommons @CarolineLucas ...              0   \n",
       "4  We're thanking people working on the climate c...              0   \n",
       "\n",
       "   favorite_count  original_retweet_count  original_favorite  \n",
       "0               1                     NaN                NaN  \n",
       "1               0                   227.0             1038.0  \n",
       "2               0                   438.0             1413.0  \n",
       "3               0                    25.0               55.0  \n",
       "4               0                    55.0              332.0  "
      ]
     },
     "execution_count": 3,
     "metadata": {},
     "output_type": "execute_result"
    }
   ],
   "source": [
    "tweets = []\n",
    "for period in ['pre', 'post']:\n",
    "    tweets.append(pd.read_json('data/tweets_{}Greta.json'.format(period)))\n",
    "    \n",
    "tweets[1].head()"
   ]
  },
  {
   "cell_type": "markdown",
   "metadata": {},
   "source": [
    "`original_retweet_count` and `original_favorite` means that the tweet is not a retweet."
   ]
  },
  {
   "cell_type": "markdown",
   "metadata": {},
   "source": [
    "## Tag tweets"
   ]
  },
  {
   "cell_type": "code",
   "execution_count": 4,
   "metadata": {},
   "outputs": [],
   "source": [
    "## test \n",
    "tweets_pre = tweets[0][:100]"
   ]
  },
  {
   "cell_type": "code",
   "execution_count": 5,
   "metadata": {},
   "outputs": [],
   "source": [
    "ARK_TWEET_NLP_PATH = 'java -XX:ParallelGCThreads=2 -Xmx500m -jar resources/ark-tweet-nlp-0.3.2/ark-tweet-nlp-0.3.2.jar'\n",
    "\n",
    "tagged_tweets = runtagger_parse(tweets_pre['text'].values, run_tagger_cmd=ARK_TWEET_NLP_PATH)"
   ]
  },
  {
   "cell_type": "code",
   "execution_count": 8,
   "metadata": {},
   "outputs": [
    {
     "data": {
      "text/plain": [
       "[('“', ',', 0.9583),\n",
       " ('The', 'D', 0.9921),\n",
       " ('transition', 'N', 0.9997),\n",
       " ('to', 'P', 0.9861),\n",
       " ('accessible', 'A', 0.9451),\n",
       " ('and', '&', 0.9977),\n",
       " ('clean', 'A', 0.8696),\n",
       " ('energy', 'N', 0.9954),\n",
       " ('is', 'V', 0.9977),\n",
       " ('a', 'D', 0.9988),\n",
       " ('duty', 'N', 0.9973),\n",
       " ('that', 'P', 0.9858),\n",
       " ('we', 'O', 0.999),\n",
       " ('owe', 'V', 0.9992),\n",
       " ('towards', 'P', 0.993),\n",
       " ('millions', 'N', 0.9904),\n",
       " ('of', 'P', 0.9991),\n",
       " ('our', 'D', 0.9987),\n",
       " ('brothers', 'N', 0.99),\n",
       " ('and', '&', 0.9979),\n",
       " ('sisters', 'N', 0.9657),\n",
       " ('around', 'P', 0.997),\n",
       " ('the', 'D', 0.9995),\n",
       " ('world', 'N', 0.9766),\n",
       " (',', ',', 0.9979),\n",
       " ('poorer', 'A', 0.9831),\n",
       " ('countries', 'N', 0.9996),\n",
       " ('and', '&', 0.9984),\n",
       " ('generations', 'N', 0.958),\n",
       " ('yet', 'R', 0.9825),\n",
       " ('to', 'P', 0.995),\n",
       " ('come', 'V', 0.9984),\n",
       " ('”', ',', 0.9752),\n",
       " ('-', ',', 0.7817),\n",
       " ('@Pontifex', '@', 0.9967),\n",
       " ('Francis', '^', 0.9996),\n",
       " ('https://t.co/RSzXXlgt7Z', 'U', 0.9883),\n",
       " ('#LaudatoSi', '#', 0.9083),\n",
       " ('#ParisAgreement', '#', 0.9719),\n",
       " ('https://t.co/oxZmx9vtuE', 'U', 0.9952)]"
      ]
     },
     "execution_count": 8,
     "metadata": {},
     "output_type": "execute_result"
    }
   ],
   "source": [
    "tagged_tweets[1]"
   ]
  },
  {
   "cell_type": "code",
   "execution_count": 7,
   "metadata": {},
   "outputs": [],
   "source": [
    "def create_words_df(df, tagged_tweets):\n",
    "    # Keep only nouns (N), verbs (V), adverbs (R), adjectives (A), pronoun (O) \n",
    "    # For now keep also hashtags\n",
    "    tweets_words = list()\n",
    "    for i, tags in enumerate(tagged_tweets):\n",
    "        tweet_id = df.loc[i, 'id']\n",
    "        for word, tag, conf in tags:\n",
    "            if tag in [\"#\", 'N', 'V', 'R', 'A', 'O']:\n",
    "                tweets_words.append({\n",
    "                    'id':tweet_id,\n",
    "                    'word': word.lower(),\n",
    "                    'tag': tag,\n",
    "                    'conf': conf\n",
    "                })\n",
    "                \n",
    "    return pd.DataFrame(tweets_words)"
   ]
  },
  {
   "cell_type": "code",
   "execution_count": 32,
   "metadata": {},
   "outputs": [
    {
     "data": {
      "text/html": [
       "<div>\n",
       "<style scoped>\n",
       "    .dataframe tbody tr th:only-of-type {\n",
       "        vertical-align: middle;\n",
       "    }\n",
       "\n",
       "    .dataframe tbody tr th {\n",
       "        vertical-align: top;\n",
       "    }\n",
       "\n",
       "    .dataframe thead th {\n",
       "        text-align: right;\n",
       "    }\n",
       "</style>\n",
       "<table border=\"1\" class=\"dataframe\">\n",
       "  <thead>\n",
       "    <tr style=\"text-align: right;\">\n",
       "      <th></th>\n",
       "      <th>id</th>\n",
       "      <th>word</th>\n",
       "      <th>tag</th>\n",
       "      <th>conf</th>\n",
       "    </tr>\n",
       "  </thead>\n",
       "  <tbody>\n",
       "    <tr>\n",
       "      <th>0</th>\n",
       "      <td>1006327664976617472</td>\n",
       "      <td>new</td>\n",
       "      <td>A</td>\n",
       "      <td>0.9980</td>\n",
       "    </tr>\n",
       "    <tr>\n",
       "      <th>1</th>\n",
       "      <td>1006327664976617472</td>\n",
       "      <td>paper</td>\n",
       "      <td>N</td>\n",
       "      <td>0.9881</td>\n",
       "    </tr>\n",
       "    <tr>\n",
       "      <th>2</th>\n",
       "      <td>1006327664976617472</td>\n",
       "      <td>shows</td>\n",
       "      <td>V</td>\n",
       "      <td>0.9870</td>\n",
       "    </tr>\n",
       "    <tr>\n",
       "      <th>3</th>\n",
       "      <td>1006327664976617472</td>\n",
       "      <td>temperature</td>\n",
       "      <td>N</td>\n",
       "      <td>0.9922</td>\n",
       "    </tr>\n",
       "    <tr>\n",
       "      <th>4</th>\n",
       "      <td>1006327664976617472</td>\n",
       "      <td>goals</td>\n",
       "      <td>N</td>\n",
       "      <td>0.9671</td>\n",
       "    </tr>\n",
       "  </tbody>\n",
       "</table>\n",
       "</div>"
      ],
      "text/plain": [
       "                    id         word tag    conf\n",
       "0  1006327664976617472          new   A  0.9980\n",
       "1  1006327664976617472        paper   N  0.9881\n",
       "2  1006327664976617472        shows   V  0.9870\n",
       "3  1006327664976617472  temperature   N  0.9922\n",
       "4  1006327664976617472        goals   N  0.9671"
      ]
     },
     "execution_count": 32,
     "metadata": {},
     "output_type": "execute_result"
    }
   ],
   "source": [
    "words_pre = create_words_df(tweets_pre, tagged_tweets)\n",
    "words_pre.head()"
   ]
  },
  {
   "cell_type": "code",
   "execution_count": 33,
   "metadata": {},
   "outputs": [
    {
     "data": {
      "image/png": "[encoded data removed]",
      "text/plain": [
       "<Figure size 1080x360 with 1 Axes>"
      ]
     },
     "metadata": {},
     "output_type": "display_data"
    }
   ],
   "source": [
    "word_counts = words_pre.word.value_counts()\n",
    "word_counts = word_counts[:50]\n",
    "\n",
    "# Plot words count\n",
    "fig, ax = plt.subplots(figsize=(15, 5))\n",
    "_ = ax.set_title('Words distribution')\n",
    "_ = ax.bar(x=word_counts.keys().tolist(), height=word_counts.tolist())\n",
    "_ = ax.tick_params(axis='x', rotation=90)\n",
    "_ = plt.plot()"
   ]
  },
  {
   "cell_type": "code",
   "execution_count": 34,
   "metadata": {},
   "outputs": [
    {
     "data": {
      "image/png": "[encoded data removed]",
      "text/plain": [
       "<Figure size 1080x360 with 1 Axes>"
      ]
     },
     "metadata": {},
     "output_type": "display_data"
    }
   ],
   "source": [
    "# check confidence\n",
    "fig, ax = plt.subplots(figsize=(15, 5))\n",
    "_ = ax.set_title('Confidence distribution for POS tags')\n",
    "_ = ax.hist(words_pre.conf, bins=100)\n",
    "_ = ax.set_xlim(left=0.85, right=1.0)\n",
    "_ = ax.axvline(x=0.95, c='r', ls='--')\n",
    "_ = plt.show()"
   ]
  },
  {
   "cell_type": "code",
   "execution_count": 38,
   "metadata": {},
   "outputs": [
    {
     "data": {
      "image/png": "[encoded data removed]",
      "text/plain": [
       "<Figure size 1080x360 with 1 Axes>"
      ]
     },
     "metadata": {},
     "output_type": "display_data"
    }
   ],
   "source": [
    "word_counts = words_pre.word.value_counts()\n",
    "word_counts = word_counts[:50]\n",
    "\n",
    "# Plot words count\n",
    "fig, ax = plt.subplots(figsize=(15, 5))\n",
    "_ = ax.set_title('Words distribution')\n",
    "_ = ax.bar(x=word_counts.keys().tolist(), height=word_counts.tolist())\n",
    "_ = ax.tick_params(axis='x', rotation=90)\n",
    "_ = plt.plot()"
   ]
  },
  {
   "cell_type": "code",
   "execution_count": 35,
   "metadata": {},
   "outputs": [],
   "source": [
    "words_pre = words_pre[words_pre['conf'] > 0.95]"
   ]
  },
  {
   "cell_type": "code",
   "execution_count": 36,
   "metadata": {},
   "outputs": [],
   "source": [
    "words_pre.word = words_pre.word.apply(lambda x: re.sub(r'[#]', '', x))"
   ]
  }
 ],
 "metadata": {
  "kernelspec": {
   "display_name": "Python 3",
   "language": "python",
   "name": "python3"
  },
  "language_info": {
   "codemirror_mode": {
    "name": "ipython",
    "version": 3
   },
   "file_extension": ".py",
   "mimetype": "text/x-python",
   "name": "python",
   "nbconvert_exporter": "python",
   "pygments_lexer": "ipython3",
   "version": "3.6.5"
  }
 },
 "nbformat": 4,
 "nbformat_minor": 2
}
